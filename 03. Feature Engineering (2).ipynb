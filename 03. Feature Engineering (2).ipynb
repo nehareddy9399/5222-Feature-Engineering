{
 "cells": [
  {
   "cell_type": "markdown",
   "metadata": {},
   "source": [
    "# Feature Engineering"
   ]
  },
  {
   "cell_type": "markdown",
   "metadata": {},
   "source": [
    "The next step is to create features from the raw text so we can train the machine learning models. The steps followed are:\n",
    "\n",
    "1. **Text Cleaning and Preparation**: cleaning of special characters, downcasing, punctuation signs. possessive pronouns and stop words removal and lemmatization. \n",
    "2. **Label coding**: creation of a dictionary to map each category to a code.\n",
    "3. **Train-test split**: to test the models on unseen data.\n",
    "4. **Text representation**: use of TF-IDF scores to represent text."
   ]
  },
  {
   "cell_type": "code",
   "execution_count": 46,
   "metadata": {},
   "outputs": [],
   "source": [
    "import pickle\n",
    "import pandas as pd\n",
    "import re\n",
    "import nltk\n",
    "from nltk.corpus import stopwords\n",
    "from nltk.stem import WordNetLemmatizer\n",
    "from sklearn.feature_extraction.text import TfidfVectorizer\n",
    "from sklearn.model_selection import train_test_split\n",
    "from sklearn.feature_selection import chi2\n",
    "import numpy as np"
   ]
  },
  {
   "cell_type": "markdown",
   "metadata": {},
   "source": [
    "First of all we'll load the dataset:"
   ]
  },
  {
   "cell_type": "code",
   "execution_count": 47,
   "metadata": {},
   "outputs": [],
   "source": [
    "path_df = \"/Users/keerthanareddy/Downloads/Latest-News-Classifier-master/0. Latest News Classifier/02. Exploratory Data Analysis/News_dataset.pickle16\"\n",
    "\n",
    "with open(path_df, 'rb') as data:\n",
    "    df = pickle.load(data)"
   ]
  },
  {
   "cell_type": "code",
   "execution_count": 48,
   "metadata": {},
   "outputs": [
    {
     "data": {
      "text/html": [
       "<div>\n",
       "<style scoped>\n",
       "    .dataframe tbody tr th:only-of-type {\n",
       "        vertical-align: middle;\n",
       "    }\n",
       "\n",
       "    .dataframe tbody tr th {\n",
       "        vertical-align: top;\n",
       "    }\n",
       "\n",
       "    .dataframe thead th {\n",
       "        text-align: right;\n",
       "    }\n",
       "</style>\n",
       "<table border=\"1\" class=\"dataframe\">\n",
       "  <thead>\n",
       "    <tr style=\"text-align: right;\">\n",
       "      <th></th>\n",
       "      <th>File_Name</th>\n",
       "      <th>Content</th>\n",
       "      <th>Category</th>\n",
       "      <th>Complete_Filename</th>\n",
       "      <th>id</th>\n",
       "      <th>News_length</th>\n",
       "    </tr>\n",
       "  </thead>\n",
       "  <tbody>\n",
       "    <tr>\n",
       "      <th>0</th>\n",
       "      <td>Neha_Assign_AutonomusCar.txt</td>\n",
       "      <td>A year ago, Detroit and Silicon Valley had vis...</td>\n",
       "      <td>Baleno</td>\n",
       "      <td>Neha_Assign_AutonomusCar.txt-Baleno</td>\n",
       "      <td>1</td>\n",
       "      <td>8503</td>\n",
       "    </tr>\n",
       "    <tr>\n",
       "      <th>1</th>\n",
       "      <td>Neha_Assign_AutonomusCar2.txt</td>\n",
       "      <td>Artificial intelligence (AI) is used in a wide...</td>\n",
       "      <td>Suziki</td>\n",
       "      <td>Neha_Assign_AutonomusCar2.txt-Suziki</td>\n",
       "      <td>1</td>\n",
       "      <td>10366</td>\n",
       "    </tr>\n",
       "  </tbody>\n",
       "</table>\n",
       "</div>"
      ],
      "text/plain": [
       "                       File_Name  \\\n",
       "0   Neha_Assign_AutonomusCar.txt   \n",
       "1  Neha_Assign_AutonomusCar2.txt   \n",
       "\n",
       "                                             Content Category  \\\n",
       "0  A year ago, Detroit and Silicon Valley had vis...   Baleno   \n",
       "1  Artificial intelligence (AI) is used in a wide...   Suziki   \n",
       "\n",
       "                      Complete_Filename  id  News_length  \n",
       "0   Neha_Assign_AutonomusCar.txt-Baleno   1         8503  \n",
       "1  Neha_Assign_AutonomusCar2.txt-Suziki   1        10366  "
      ]
     },
     "execution_count": 48,
     "metadata": {},
     "output_type": "execute_result"
    }
   ],
   "source": [
    "df.head()"
   ]
  },
  {
   "cell_type": "markdown",
   "metadata": {},
   "source": [
    "And visualize one sample news content:"
   ]
  },
  {
   "cell_type": "code",
   "execution_count": 49,
   "metadata": {},
   "outputs": [
    {
     "data": {
      "text/plain": [
       "'Artificial intelligence (AI) is used in a wide variety of products and services, including maps embedded on our smart phones and â€œchat botsâ€\\x9d that help answer our questions on websites. Many hope that AI will transform our economy in ways that drive growth, similar to how steam engines did in the late 19th century and electricity did in the early 20th century. But it is hard to imagine that maps on smart phones, chatbots, and other existing AI-enabled services will drive the type of economic growth we saw from stream and electricity. What we need to see are some dramatic new AI-enabled products and services that transform our way of lifeâ€”in short, we are waiting for an AI â€œkiller app.â€\\x9d\\r\\nAutonomous vehicles (AVs)â€”vehicles that accelerate, brake, and turn on their own, requiring little or no input from a human driverâ€”may be such a killer app that transforms our economy significantly. AI supports AVs in a variety of ways, including quickly processing and interpreting the large amounts of data generated by the vehicleâ€™s cameras and sensors and helping to improve vehicle fuel efficiency and safety. The impacts of broad adoption of AVs are equally numerous, from potentially lowering transportation costs by limiting the need for drivers to possibly transforming mobility in urban and suburban environments. While the relative timing and scale of economic growth is not yet clearâ€”and subject to some debate among scholarsâ€”a key step in maximizing the benefits of AVs is passing federal legislation, rather than relying on a patchwork of state and local guidelines. To inform the debate and help prepare policymakers for the task at hand, this report will examine the state of AVs, the potential for them to become a â€œkiller appâ€\\x9d with broad impacts, and the existing and potential regulations that could ensure net positive effects on the economy and society as a whole.\\r\\n\\r\\nTHE CURRENT STATE AND FUTURE OF AVS\\r\\nThe current standards for autonomous driving were developed by the Society of Automotive Engineers (SAE International). According to the SAE standard, the automation capability of vehicles ranges from Level 0, with no autonomy, to Level 5, which is full automation. Level 1 features include park assist, lane assist and adaptive cruise control. Some Level 3 vehicles, which include full self-driving capabilities but require human intervention in complex situations such as traffic jams, may be commercially available in 2021. No Level 4 or 5 cars, which would not require any human intervention, are yet certified for use on regular roads, though there are some such as Googleâ€™s Waymo that are in development.\\r\\n\\r\\nWhile the potential impacts of AVs are substantial, it will take time for them to be realized; AVs are still some years from being commercially available, let alone in widespread use. To give a reasonable sense of timing, Chris Urmsonâ€”a DARPA challenge winner, head of Googleâ€™s Waymo autonomous vehicle unit for many years, and now CEO of a self-driving vehicle software company named Aurora â€”argues it may take up to 30 to 50 years before widespread adoption of autonomous vehicles. Despite predictions to the contraryâ€”e.g., Elon Muskâ€™s 2019 prediction that there would be a Tesla driverless taxi fleet in some regions by 2020â€”time frames of this magnitude are common in the automobile industry. Choe, Oettl and Seamans (2021) report that widespread adoption of new innovations in the automobile sector historically can take several decades.[1] There are a number of factors that contribute to technology adoption, and even if a new technology is feasible, it may not be available at a price point that many consumers will pay. For example, turbo-charged engines, which help to reduce the amount of fuel needed, did not start to become popular until oil prices started to rise in the 1970s.\\r\\n\\r\\nIn short, the timing of adoption of AVs and the economic impacts that will follow depend on many factors. For regulators and policymakers interested in shaping what will likely be considerable economic and societal impacts of AVs, now is the time.\\r\\n\\r\\nSupporters of autonomous vehicles argue that they may provide a variety of benefits including fuel efficiency and safety. Indeed, the Brookings Institution recently published a book on the topic (Winston and Karpilow, 2020).[2] The U.S. Energy Information Administration (EIA) argues that AVs are more fuel efficient than human-driven cars, which means fewer emissions. However, AVs may increase vehicle traffic, potentially nullifying emissions reduction from fuel efficiency. Kroger, Kuhnimhof, and Trommer (2019) project the adoption of autonomous vehicle technologies may increase vehicle traffic by 2-9 percent as a result of new automobile user groups as well as lower generalized costs of car travel.[3]\\r\\n\\r\\nAVs will likely be safer than human-driven cars, in large part through reducing human error which the National Highway Traffic Safety Association (NHTSA) estimates accounts for 94 percent of crashes. While widespread adoption of AVs should ultimately result in safer roads, there have been several high profile accidents involving AVs, such as a Waymo van that crashed into a car in Arizona. Perhaps as a result of some of these high-profile accidents, consumer demand for AVs seems to be relatively low. According to a 2021 survey by the American Automobile Association, only 14 percent of drivers report that they would trust riding in a vehicle that drives itself, a response similar to the 2020 survey. It is possible, however, that consumer attitudes will change once Level 4 and 5 vehicles become commercially available.\\r\\nf\\r\\nAVs may help to reduce labor input costs in driving-intensive industries. However, as Gittleman and Monaco (2017) point out, there are several types of drivers, and autonomous driving will likely affect some types more than others.[4]  Autonomous vehicles are more likely to be used for heavy and tractor trailer truck purposes (aka â€œlong haulâ€\\x9d) than local delivery given the relative ease of navigating on highways and all the other tasks associated with local delivery, including freight handling, paperwork, and customer service. Gittleman and Monaco estimate that Level 4 and 5 automation may ultimately displace 300,000 to 400,000 drivers. But the authors highlight that there are many practical limitations to automation. For example, they highlight that one of the important functions of a truck driver is to serve as a security guard for the freight.\\r\\n\\r\\nA recent paper by Gelauff, Ossokina, and Teulings (2019) envisions some of the longer-term outcomes from AVs.[5]  The authors model two countervailing effects from AVs, each of which lead to differing outcomes on population distribution. On one hand, AVs may lead to improved use of time during car trips, which lowers the cost of living at a distance from cities. On the other hand, AVs may lead to improved public transit options in urban environments in the form of shared-ride autonomous vehicles (SAVs). The authors argue that SAVs may be more efficient than existing public transit and may make city living relatively more attractive leading to more population clustering in cities. The authors argue that the second effect may outweigh the first and ultimately may lead to overall population shifts towards large, attractive cities at the expense of smaller urban and non-urban areas. While the authors donâ€™t speculate on the ultimate economic effects of such a change, it is worth noting that literature from economic geography suggests that there are many agglomeration effects from living in or close to cities, including greater economic growth and innovation.[6]  It is also worth noting that the COVID-19 pandemic has led to a large shift in population away from many urban environments, at least in the short run.\\r\\n\\r\\nIn short, AVs will likely affect our economy and society in a variety of ways. AVs may lead to fewer emissions and increased safety. By decreasing the need for humans to drive, AVs will likely transform the type of work done by humans in the transportation sector of the economy and may also change the way that humans commute to and from work. How all this plays out, however, depends on numerous factors including, importantly, existing and future regulations.\\r\\n\\r\\nCURRENT AND PROSPECTIVE AV LEGISLATION\\r\\nThe National Conference of State Legislatures highlights that a number of states have introduced and enacted laws related to autonomous vehicles. Notably, in December 2020, California State Senator Ben Allen introduced a bill to establish a new Council on the Future of Transportation in California that would promote state legislation for autonomous vehicles, in addition to other transportation-related policy. Also, in November 2020 the California Public Utilities Commission approved autonomous vehicle regulatory framework that would make it easier for companies to provide autonomous vehicle transportation services to the public. While these laws indicate that state legislators are responsive to local concerns about autonomous vehicles, the risk is a resulting patchwork of state laws.\\r\\n\\r\\nWith this concern in mind, there have been attempts at federal legislation, notably in 2017 with the SELF DRIVE Act in the House and the AV START Act in the Senate. The SELF DRIVE Act (Safely Ensuring Lives Future Deployment and Research In Vehicle Evolution Act) was passed in the House in 2017 but did not advance in the Senate. The bill would have provided NHTSA with the authority to regulate AVs. NHTSA would be authorized to require safety assessment certifications and states would be preempted from enacting laws regarding the design, construction, or performance of AVs unless those laws enact standards identical to federal standards. In addition, the bill would have required that manufacturers of AVs develop written cybersecurity and privacy plans for such vehicles prior to offering them for sale. The AV START Act (American Vision for Safer Transportation through Advancement of Revolutionary Technologies Act) was introduced in the Senate in 2017 but did not advance. Like the SELF DRIVE Act, it would have established a framework for a federal role in oversight of AVs, preempting state laws and providing clarity to stakeholders including car manufacturers and insurance companies.'"
      ]
     },
     "execution_count": 49,
     "metadata": {},
     "output_type": "execute_result"
    }
   ],
   "source": [
    "df.loc[1]['Content']"
   ]
  },
  {
   "cell_type": "markdown",
   "metadata": {},
   "source": [
    "## 1. Text cleaning and preparation"
   ]
  },
  {
   "cell_type": "markdown",
   "metadata": {},
   "source": [
    "### 1.1. Special character cleaning\n",
    "\n",
    "We can see the following special characters:\n",
    "\n",
    "* ``\\r``\n",
    "* ``\\n``\n",
    "* ``\\`` before possessive pronouns (`government's = government\\'s`)\n",
    "* ``\\`` before possessive pronouns 2 (`Yukos'` = `Yukos\\'`)\n",
    "* ``\"`` when quoting text"
   ]
  },
  {
   "cell_type": "code",
   "execution_count": 50,
   "metadata": {},
   "outputs": [],
   "source": [
    "# \\r and \\n\n",
    "df['Content_Parsed_1'] = df['Content'].str.replace(\"\\r\", \" \")\n",
    "df['Content_Parsed_1'] = df['Content_Parsed_1'].str.replace(\"\\n\", \" \")\n",
    "df['Content_Parsed_1'] = df['Content_Parsed_1'].str.replace(\"    \", \" \")"
   ]
  },
  {
   "cell_type": "markdown",
   "metadata": {},
   "source": [
    "Regarding 3rd and 4th bullet, although it seems there is a special character, it won't affect us since it is not a *real* character:"
   ]
  },
  {
   "cell_type": "code",
   "execution_count": 51,
   "metadata": {},
   "outputs": [
    {
     "data": {
      "text/plain": [
       "\"Mr Greenspan's\""
      ]
     },
     "execution_count": 51,
     "metadata": {},
     "output_type": "execute_result"
    }
   ],
   "source": [
    "text = \"Mr Greenspan\\'s\"\n",
    "text"
   ]
  },
  {
   "cell_type": "code",
   "execution_count": 52,
   "metadata": {},
   "outputs": [],
   "source": [
    "# \" when quoting text\n",
    "df['Content_Parsed_1'] = df['Content_Parsed_1'].str.replace('\"', '')"
   ]
  },
  {
   "cell_type": "markdown",
   "metadata": {},
   "source": [
    "### 1.2. Upcase/downcase"
   ]
  },
  {
   "cell_type": "markdown",
   "metadata": {},
   "source": [
    "We'll downcase the texts because we want, for example, `Football` and `football` to be the same word."
   ]
  },
  {
   "cell_type": "code",
   "execution_count": 53,
   "metadata": {},
   "outputs": [],
   "source": [
    "# Lowercasing the text\n",
    "df['Content_Parsed_2'] = df['Content_Parsed_1'].str.lower()"
   ]
  },
  {
   "cell_type": "markdown",
   "metadata": {},
   "source": [
    "### 1.3. Punctuation signs"
   ]
  },
  {
   "cell_type": "markdown",
   "metadata": {},
   "source": [
    "Punctuation signs won't have any predicting power, so we'll just get rid of them."
   ]
  },
  {
   "cell_type": "code",
   "execution_count": 54,
   "metadata": {},
   "outputs": [
    {
     "name": "stderr",
     "output_type": "stream",
     "text": [
      "/var/folders/wx/mft315nd3gl_lnvrcrcphywr0000gn/T/ipykernel_14604/1781969415.py:5: FutureWarning: The default value of regex will change from True to False in a future version. In addition, single character regular expressions will *not* be treated as literal strings when regex=True.\n",
      "  df['Content_Parsed_3'] = df['Content_Parsed_3'].str.replace(punct_sign, '')\n"
     ]
    }
   ],
   "source": [
    "punctuation_signs = list(\"?:!.,;\")\n",
    "df['Content_Parsed_3'] = df['Content_Parsed_2']\n",
    "\n",
    "for punct_sign in punctuation_signs:\n",
    "    df['Content_Parsed_3'] = df['Content_Parsed_3'].str.replace(punct_sign, '')"
   ]
  },
  {
   "cell_type": "markdown",
   "metadata": {},
   "source": [
    "By doing this we are messing up with some numbers, but it's no problem since we aren't expecting any predicting power from them."
   ]
  },
  {
   "cell_type": "markdown",
   "metadata": {},
   "source": [
    "### 1.4. Possessive pronouns"
   ]
  },
  {
   "cell_type": "markdown",
   "metadata": {},
   "source": [
    "We'll also remove possessive pronoun terminations:"
   ]
  },
  {
   "cell_type": "code",
   "execution_count": 58,
   "metadata": {},
   "outputs": [],
   "source": [
    "df['Content_Parsed_4'] = df['Content_Parsed_3'].str.replace(\"'s\", \"\")"
   ]
  },
  {
   "cell_type": "markdown",
   "metadata": {},
   "source": [
    "### 1.5. Stemming and Lemmatization\n",
    "\n",
    "Since stemming can produce output words that don't exist, we'll only use a lemmatization process at this moment. Lemmatization takes into consideration the morphological analysis of the words and returns words that do exist, so it will be more useful for us."
   ]
  },
  {
   "cell_type": "code",
   "execution_count": 59,
   "metadata": {},
   "outputs": [
    {
     "name": "stdout",
     "output_type": "stream",
     "text": [
      "------------------------------------------------------------\n"
     ]
    },
    {
     "name": "stderr",
     "output_type": "stream",
     "text": [
      "[nltk_data] Downloading package punkt to\n",
      "[nltk_data]     /Users/keerthanareddy/nltk_data...\n",
      "[nltk_data]   Package punkt is already up-to-date!\n",
      "[nltk_data] Downloading package wordnet to\n",
      "[nltk_data]     /Users/keerthanareddy/nltk_data...\n",
      "[nltk_data]   Package wordnet is already up-to-date!\n"
     ]
    },
    {
     "data": {
      "text/plain": [
       "True"
      ]
     },
     "execution_count": 59,
     "metadata": {},
     "output_type": "execute_result"
    }
   ],
   "source": [
    "# Downloading punkt and wordnet from NLTK\n",
    "nltk.download('punkt')\n",
    "print(\"------------------------------------------------------------\")\n",
    "nltk.download('wordnet')"
   ]
  },
  {
   "cell_type": "code",
   "execution_count": 60,
   "metadata": {},
   "outputs": [],
   "source": [
    "# Saving the lemmatizer into an object\n",
    "wordnet_lemmatizer = WordNetLemmatizer()"
   ]
  },
  {
   "cell_type": "markdown",
   "metadata": {},
   "source": [
    "In order to lemmatize, we have to iterate through every word:"
   ]
  },
  {
   "cell_type": "code",
   "execution_count": 61,
   "metadata": {},
   "outputs": [],
   "source": [
    "nrows = len(df)\n",
    "lemmatized_text_list = []\n",
    "\n",
    "for row in range(0, nrows):\n",
    "    \n",
    "    # Create an empty list containing lemmatized words\n",
    "    lemmatized_list = []\n",
    "    \n",
    "    # Save the text and its words into an object\n",
    "    text = df.loc[row]['Content_Parsed_4']\n",
    "    text_words = str(text).split(\" \")\n",
    "\n",
    "    # Iterate through every word to lemmatize\n",
    "    for word in text_words:\n",
    "        lemmatized_list.append(wordnet_lemmatizer.lemmatize(word, pos=\"v\"))\n",
    "        \n",
    "    # Join the list\n",
    "    lemmatized_text = \" \".join(lemmatized_list)\n",
    "    \n",
    "    # Append to the list containing the texts\n",
    "    lemmatized_text_list.append(lemmatized_text)"
   ]
  },
  {
   "cell_type": "code",
   "execution_count": 62,
   "metadata": {},
   "outputs": [],
   "source": [
    "df['Content_Parsed_5'] = lemmatized_text_list"
   ]
  },
  {
   "cell_type": "markdown",
   "metadata": {},
   "source": [
    "Although lemmatization doesn't work perfectly in all cases (as can be seen in the example below), it can be useful."
   ]
  },
  {
   "cell_type": "markdown",
   "metadata": {},
   "source": [
    "### 1.6. Stop words"
   ]
  },
  {
   "cell_type": "code",
   "execution_count": 63,
   "metadata": {},
   "outputs": [
    {
     "name": "stderr",
     "output_type": "stream",
     "text": [
      "[nltk_data] Downloading package stopwords to\n",
      "[nltk_data]     /Users/keerthanareddy/nltk_data...\n",
      "[nltk_data]   Package stopwords is already up-to-date!\n"
     ]
    },
    {
     "data": {
      "text/plain": [
       "True"
      ]
     },
     "execution_count": 63,
     "metadata": {},
     "output_type": "execute_result"
    }
   ],
   "source": [
    "# Downloading the stop words list\n",
    "nltk.download('stopwords')"
   ]
  },
  {
   "cell_type": "code",
   "execution_count": 64,
   "metadata": {},
   "outputs": [],
   "source": [
    "# Loading the stop words in english\n",
    "stop_words = list(stopwords.words('english'))"
   ]
  },
  {
   "cell_type": "code",
   "execution_count": 65,
   "metadata": {},
   "outputs": [
    {
     "data": {
      "text/plain": [
       "['i', 'me', 'my', 'myself', 'we', 'our', 'ours', 'ourselves', 'you', \"you're\"]"
      ]
     },
     "execution_count": 65,
     "metadata": {},
     "output_type": "execute_result"
    }
   ],
   "source": [
    "stop_words[0:10]"
   ]
  },
  {
   "cell_type": "markdown",
   "metadata": {},
   "source": [
    "To remove the stop words, we'll handle a regular expression only detecting whole words, as seen in the following example:"
   ]
  },
  {
   "cell_type": "code",
   "execution_count": 66,
   "metadata": {
    "scrolled": true
   },
   "outputs": [
    {
     "data": {
      "text/plain": [
       "'StopWord eating a meal'"
      ]
     },
     "execution_count": 66,
     "metadata": {},
     "output_type": "execute_result"
    }
   ],
   "source": [
    "example = \"me eating a meal\"\n",
    "word = \"me\"\n",
    "\n",
    "# The regular expression is:\n",
    "regex = r\"\\b\" + word + r\"\\b\"  # we need to build it like that to work properly\n",
    "\n",
    "re.sub(regex, \"StopWord\", example)"
   ]
  },
  {
   "cell_type": "markdown",
   "metadata": {},
   "source": [
    "We can now loop through all the stop words:"
   ]
  },
  {
   "cell_type": "code",
   "execution_count": 67,
   "metadata": {},
   "outputs": [
    {
     "name": "stderr",
     "output_type": "stream",
     "text": [
      "/var/folders/wx/mft315nd3gl_lnvrcrcphywr0000gn/T/ipykernel_14604/3814005232.py:6: FutureWarning: The default value of regex will change from True to False in a future version.\n",
      "  df['Content_Parsed_6'] = df['Content_Parsed_6'].str.replace(regex_stopword, '')\n"
     ]
    }
   ],
   "source": [
    "df['Content_Parsed_6'] = df['Content_Parsed_5']\n",
    "\n",
    "for stop_word in stop_words:\n",
    "\n",
    "    regex_stopword = r\"\\b\" + stop_word + r\"\\b\"\n",
    "    df['Content_Parsed_6'] = df['Content_Parsed_6'].str.replace(regex_stopword, '')"
   ]
  },
  {
   "cell_type": "markdown",
   "metadata": {},
   "source": [
    "We have some dobule/triple spaces between words because of the replacements. However, it's not a problem because we'll tokenize by the spaces later."
   ]
  },
  {
   "cell_type": "markdown",
   "metadata": {},
   "source": [
    "As an example, we'll show an original news article and its modifications throughout the process:"
   ]
  },
  {
   "cell_type": "code",
   "execution_count": 68,
   "metadata": {},
   "outputs": [
    {
     "data": {
      "text/plain": [
       "'Artificial intelligence (AI) is used in a wide variety of products and services, including maps embedded on our smart phones and â€œchat botsâ€\\x9d that help answer our questions on websites. Many hope that AI will transform our economy in ways that drive growth, similar to how steam engines did in the late 19th century and electricity did in the early 20th century. But it is hard to imagine that maps on smart phones, chatbots, and other existing AI-enabled services will drive the type of economic growth we saw from stream and electricity. What we need to see are some dramatic new AI-enabled products and services that transform our way of lifeâ€”in short, we are waiting for an AI â€œkiller app.â€\\x9d\\r\\nAutonomous vehicles (AVs)â€”vehicles that accelerate, brake, and turn on their own, requiring little or no input from a human driverâ€”may be such a killer app that transforms our economy significantly. AI supports AVs in a variety of ways, including quickly processing and interpreting the large amounts of data generated by the vehicleâ€™s cameras and sensors and helping to improve vehicle fuel efficiency and safety. The impacts of broad adoption of AVs are equally numerous, from potentially lowering transportation costs by limiting the need for drivers to possibly transforming mobility in urban and suburban environments. While the relative timing and scale of economic growth is not yet clearâ€”and subject to some debate among scholarsâ€”a key step in maximizing the benefits of AVs is passing federal legislation, rather than relying on a patchwork of state and local guidelines. To inform the debate and help prepare policymakers for the task at hand, this report will examine the state of AVs, the potential for them to become a â€œkiller appâ€\\x9d with broad impacts, and the existing and potential regulations that could ensure net positive effects on the economy and society as a whole.\\r\\n\\r\\nTHE CURRENT STATE AND FUTURE OF AVS\\r\\nThe current standards for autonomous driving were developed by the Society of Automotive Engineers (SAE International). According to the SAE standard, the automation capability of vehicles ranges from Level 0, with no autonomy, to Level 5, which is full automation. Level 1 features include park assist, lane assist and adaptive cruise control. Some Level 3 vehicles, which include full self-driving capabilities but require human intervention in complex situations such as traffic jams, may be commercially available in 2021. No Level 4 or 5 cars, which would not require any human intervention, are yet certified for use on regular roads, though there are some such as Googleâ€™s Waymo that are in development.\\r\\n\\r\\nWhile the potential impacts of AVs are substantial, it will take time for them to be realized; AVs are still some years from being commercially available, let alone in widespread use. To give a reasonable sense of timing, Chris Urmsonâ€”a DARPA challenge winner, head of Googleâ€™s Waymo autonomous vehicle unit for many years, and now CEO of a self-driving vehicle software company named Aurora â€”argues it may take up to 30 to 50 years before widespread adoption of autonomous vehicles. Despite predictions to the contraryâ€”e.g., Elon Muskâ€™s 2019 prediction that there would be a Tesla driverless taxi fleet in some regions by 2020â€”time frames of this magnitude are common in the automobile industry. Choe, Oettl and Seamans (2021) report that widespread adoption of new innovations in the automobile sector historically can take several decades.[1] There are a number of factors that contribute to technology adoption, and even if a new technology is feasible, it may not be available at a price point that many consumers will pay. For example, turbo-charged engines, which help to reduce the amount of fuel needed, did not start to become popular until oil prices started to rise in the 1970s.\\r\\n\\r\\nIn short, the timing of adoption of AVs and the economic impacts that will follow depend on many factors. For regulators and policymakers interested in shaping what will likely be considerable economic and societal impacts of AVs, now is the time.\\r\\n\\r\\nSupporters of autonomous vehicles argue that they may provide a variety of benefits including fuel efficiency and safety. Indeed, the Brookings Institution recently published a book on the topic (Winston and Karpilow, 2020).[2] The U.S. Energy Information Administration (EIA) argues that AVs are more fuel efficient than human-driven cars, which means fewer emissions. However, AVs may increase vehicle traffic, potentially nullifying emissions reduction from fuel efficiency. Kroger, Kuhnimhof, and Trommer (2019) project the adoption of autonomous vehicle technologies may increase vehicle traffic by 2-9 percent as a result of new automobile user groups as well as lower generalized costs of car travel.[3]\\r\\n\\r\\nAVs will likely be safer than human-driven cars, in large part through reducing human error which the National Highway Traffic Safety Association (NHTSA) estimates accounts for 94 percent of crashes. While widespread adoption of AVs should ultimately result in safer roads, there have been several high profile accidents involving AVs, such as a Waymo van that crashed into a car in Arizona. Perhaps as a result of some of these high-profile accidents, consumer demand for AVs seems to be relatively low. According to a 2021 survey by the American Automobile Association, only 14 percent of drivers report that they would trust riding in a vehicle that drives itself, a response similar to the 2020 survey. It is possible, however, that consumer attitudes will change once Level 4 and 5 vehicles become commercially available.\\r\\nf\\r\\nAVs may help to reduce labor input costs in driving-intensive industries. However, as Gittleman and Monaco (2017) point out, there are several types of drivers, and autonomous driving will likely affect some types more than others.[4]  Autonomous vehicles are more likely to be used for heavy and tractor trailer truck purposes (aka â€œlong haulâ€\\x9d) than local delivery given the relative ease of navigating on highways and all the other tasks associated with local delivery, including freight handling, paperwork, and customer service. Gittleman and Monaco estimate that Level 4 and 5 automation may ultimately displace 300,000 to 400,000 drivers. But the authors highlight that there are many practical limitations to automation. For example, they highlight that one of the important functions of a truck driver is to serve as a security guard for the freight.\\r\\n\\r\\nA recent paper by Gelauff, Ossokina, and Teulings (2019) envisions some of the longer-term outcomes from AVs.[5]  The authors model two countervailing effects from AVs, each of which lead to differing outcomes on population distribution. On one hand, AVs may lead to improved use of time during car trips, which lowers the cost of living at a distance from cities. On the other hand, AVs may lead to improved public transit options in urban environments in the form of shared-ride autonomous vehicles (SAVs). The authors argue that SAVs may be more efficient than existing public transit and may make city living relatively more attractive leading to more population clustering in cities. The authors argue that the second effect may outweigh the first and ultimately may lead to overall population shifts towards large, attractive cities at the expense of smaller urban and non-urban areas. While the authors donâ€™t speculate on the ultimate economic effects of such a change, it is worth noting that literature from economic geography suggests that there are many agglomeration effects from living in or close to cities, including greater economic growth and innovation.[6]  It is also worth noting that the COVID-19 pandemic has led to a large shift in population away from many urban environments, at least in the short run.\\r\\n\\r\\nIn short, AVs will likely affect our economy and society in a variety of ways. AVs may lead to fewer emissions and increased safety. By decreasing the need for humans to drive, AVs will likely transform the type of work done by humans in the transportation sector of the economy and may also change the way that humans commute to and from work. How all this plays out, however, depends on numerous factors including, importantly, existing and future regulations.\\r\\n\\r\\nCURRENT AND PROSPECTIVE AV LEGISLATION\\r\\nThe National Conference of State Legislatures highlights that a number of states have introduced and enacted laws related to autonomous vehicles. Notably, in December 2020, California State Senator Ben Allen introduced a bill to establish a new Council on the Future of Transportation in California that would promote state legislation for autonomous vehicles, in addition to other transportation-related policy. Also, in November 2020 the California Public Utilities Commission approved autonomous vehicle regulatory framework that would make it easier for companies to provide autonomous vehicle transportation services to the public. While these laws indicate that state legislators are responsive to local concerns about autonomous vehicles, the risk is a resulting patchwork of state laws.\\r\\n\\r\\nWith this concern in mind, there have been attempts at federal legislation, notably in 2017 with the SELF DRIVE Act in the House and the AV START Act in the Senate. The SELF DRIVE Act (Safely Ensuring Lives Future Deployment and Research In Vehicle Evolution Act) was passed in the House in 2017 but did not advance in the Senate. The bill would have provided NHTSA with the authority to regulate AVs. NHTSA would be authorized to require safety assessment certifications and states would be preempted from enacting laws regarding the design, construction, or performance of AVs unless those laws enact standards identical to federal standards. In addition, the bill would have required that manufacturers of AVs develop written cybersecurity and privacy plans for such vehicles prior to offering them for sale. The AV START Act (American Vision for Safer Transportation through Advancement of Revolutionary Technologies Act) was introduced in the Senate in 2017 but did not advance. Like the SELF DRIVE Act, it would have established a framework for a federal role in oversight of AVs, preempting state laws and providing clarity to stakeholders including car manufacturers and insurance companies.'"
      ]
     },
     "execution_count": 68,
     "metadata": {},
     "output_type": "execute_result"
    }
   ],
   "source": [
    "df.loc[1]['Content']"
   ]
  },
  {
   "cell_type": "markdown",
   "metadata": {},
   "source": [
    "1. Special character cleaning"
   ]
  },
  {
   "cell_type": "code",
   "execution_count": 69,
   "metadata": {},
   "outputs": [
    {
     "data": {
      "text/plain": [
       "'Artificial intelligence (AI) is used in a wide variety of products and services, including maps embedded on our smart phones and â€œchat botsâ€\\x9d that help answer our questions on websites. Many hope that AI will transform our economy in ways that drive growth, similar to how steam engines did in the late 19th century and electricity did in the early 20th century. But it is hard to imagine that maps on smart phones, chatbots, and other existing AI-enabled services will drive the type of economic growth we saw from stream and electricity. What we need to see are some dramatic new AI-enabled products and services that transform our way of lifeâ€”in short, we are waiting for an AI â€œkiller app.â€\\x9d  Autonomous vehicles (AVs)â€”vehicles that accelerate, brake, and turn on their own, requiring little or no input from a human driverâ€”may be such a killer app that transforms our economy significantly. AI supports AVs in a variety of ways, including quickly processing and interpreting the large amounts of data generated by the vehicleâ€™s cameras and sensors and helping to improve vehicle fuel efficiency and safety. The impacts of broad adoption of AVs are equally numerous, from potentially lowering transportation costs by limiting the need for drivers to possibly transforming mobility in urban and suburban environments. While the relative timing and scale of economic growth is not yet clearâ€”and subject to some debate among scholarsâ€”a key step in maximizing the benefits of AVs is passing federal legislation, rather than relying on a patchwork of state and local guidelines. To inform the debate and help prepare policymakers for the task at hand, this report will examine the state of AVs, the potential for them to become a â€œkiller appâ€\\x9d with broad impacts, and the existing and potential regulations that could ensure net positive effects on the economy and society as a whole. THE CURRENT STATE AND FUTURE OF AVS  The current standards for autonomous driving were developed by the Society of Automotive Engineers (SAE International). According to the SAE standard, the automation capability of vehicles ranges from Level 0, with no autonomy, to Level 5, which is full automation. Level 1 features include park assist, lane assist and adaptive cruise control. Some Level 3 vehicles, which include full self-driving capabilities but require human intervention in complex situations such as traffic jams, may be commercially available in 2021. No Level 4 or 5 cars, which would not require any human intervention, are yet certified for use on regular roads, though there are some such as Googleâ€™s Waymo that are in development. While the potential impacts of AVs are substantial, it will take time for them to be realized; AVs are still some years from being commercially available, let alone in widespread use. To give a reasonable sense of timing, Chris Urmsonâ€”a DARPA challenge winner, head of Googleâ€™s Waymo autonomous vehicle unit for many years, and now CEO of a self-driving vehicle software company named Aurora â€”argues it may take up to 30 to 50 years before widespread adoption of autonomous vehicles. Despite predictions to the contraryâ€”e.g., Elon Muskâ€™s 2019 prediction that there would be a Tesla driverless taxi fleet in some regions by 2020â€”time frames of this magnitude are common in the automobile industry. Choe, Oettl and Seamans (2021) report that widespread adoption of new innovations in the automobile sector historically can take several decades.[1] There are a number of factors that contribute to technology adoption, and even if a new technology is feasible, it may not be available at a price point that many consumers will pay. For example, turbo-charged engines, which help to reduce the amount of fuel needed, did not start to become popular until oil prices started to rise in the 1970s. In short, the timing of adoption of AVs and the economic impacts that will follow depend on many factors. For regulators and policymakers interested in shaping what will likely be considerable economic and societal impacts of AVs, now is the time. Supporters of autonomous vehicles argue that they may provide a variety of benefits including fuel efficiency and safety. Indeed, the Brookings Institution recently published a book on the topic (Winston and Karpilow, 2020).[2] The U.S. Energy Information Administration (EIA) argues that AVs are more fuel efficient than human-driven cars, which means fewer emissions. However, AVs may increase vehicle traffic, potentially nullifying emissions reduction from fuel efficiency. Kroger, Kuhnimhof, and Trommer (2019) project the adoption of autonomous vehicle technologies may increase vehicle traffic by 2-9 percent as a result of new automobile user groups as well as lower generalized costs of car travel.[3] AVs will likely be safer than human-driven cars, in large part through reducing human error which the National Highway Traffic Safety Association (NHTSA) estimates accounts for 94 percent of crashes. While widespread adoption of AVs should ultimately result in safer roads, there have been several high profile accidents involving AVs, such as a Waymo van that crashed into a car in Arizona. Perhaps as a result of some of these high-profile accidents, consumer demand for AVs seems to be relatively low. According to a 2021 survey by the American Automobile Association, only 14 percent of drivers report that they would trust riding in a vehicle that drives itself, a response similar to the 2020 survey. It is possible, however, that consumer attitudes will change once Level 4 and 5 vehicles become commercially available.  f  AVs may help to reduce labor input costs in driving-intensive industries. However, as Gittleman and Monaco (2017) point out, there are several types of drivers, and autonomous driving will likely affect some types more than others.[4]  Autonomous vehicles are more likely to be used for heavy and tractor trailer truck purposes (aka â€œlong haulâ€\\x9d) than local delivery given the relative ease of navigating on highways and all the other tasks associated with local delivery, including freight handling, paperwork, and customer service. Gittleman and Monaco estimate that Level 4 and 5 automation may ultimately displace 300,000 to 400,000 drivers. But the authors highlight that there are many practical limitations to automation. For example, they highlight that one of the important functions of a truck driver is to serve as a security guard for the freight. A recent paper by Gelauff, Ossokina, and Teulings (2019) envisions some of the longer-term outcomes from AVs.[5]  The authors model two countervailing effects from AVs, each of which lead to differing outcomes on population distribution. On one hand, AVs may lead to improved use of time during car trips, which lowers the cost of living at a distance from cities. On the other hand, AVs may lead to improved public transit options in urban environments in the form of shared-ride autonomous vehicles (SAVs). The authors argue that SAVs may be more efficient than existing public transit and may make city living relatively more attractive leading to more population clustering in cities. The authors argue that the second effect may outweigh the first and ultimately may lead to overall population shifts towards large, attractive cities at the expense of smaller urban and non-urban areas. While the authors donâ€™t speculate on the ultimate economic effects of such a change, it is worth noting that literature from economic geography suggests that there are many agglomeration effects from living in or close to cities, including greater economic growth and innovation.[6]  It is also worth noting that the COVID-19 pandemic has led to a large shift in population away from many urban environments, at least in the short run. In short, AVs will likely affect our economy and society in a variety of ways. AVs may lead to fewer emissions and increased safety. By decreasing the need for humans to drive, AVs will likely transform the type of work done by humans in the transportation sector of the economy and may also change the way that humans commute to and from work. How all this plays out, however, depends on numerous factors including, importantly, existing and future regulations. CURRENT AND PROSPECTIVE AV LEGISLATION  The National Conference of State Legislatures highlights that a number of states have introduced and enacted laws related to autonomous vehicles. Notably, in December 2020, California State Senator Ben Allen introduced a bill to establish a new Council on the Future of Transportation in California that would promote state legislation for autonomous vehicles, in addition to other transportation-related policy. Also, in November 2020 the California Public Utilities Commission approved autonomous vehicle regulatory framework that would make it easier for companies to provide autonomous vehicle transportation services to the public. While these laws indicate that state legislators are responsive to local concerns about autonomous vehicles, the risk is a resulting patchwork of state laws. With this concern in mind, there have been attempts at federal legislation, notably in 2017 with the SELF DRIVE Act in the House and the AV START Act in the Senate. The SELF DRIVE Act (Safely Ensuring Lives Future Deployment and Research In Vehicle Evolution Act) was passed in the House in 2017 but did not advance in the Senate. The bill would have provided NHTSA with the authority to regulate AVs. NHTSA would be authorized to require safety assessment certifications and states would be preempted from enacting laws regarding the design, construction, or performance of AVs unless those laws enact standards identical to federal standards. In addition, the bill would have required that manufacturers of AVs develop written cybersecurity and privacy plans for such vehicles prior to offering them for sale. The AV START Act (American Vision for Safer Transportation through Advancement of Revolutionary Technologies Act) was introduced in the Senate in 2017 but did not advance. Like the SELF DRIVE Act, it would have established a framework for a federal role in oversight of AVs, preempting state laws and providing clarity to stakeholders including car manufacturers and insurance companies.'"
      ]
     },
     "execution_count": 69,
     "metadata": {},
     "output_type": "execute_result"
    }
   ],
   "source": [
    "df.loc[1]['Content_Parsed_1']"
   ]
  },
  {
   "cell_type": "markdown",
   "metadata": {},
   "source": [
    "2. Upcase/downcase"
   ]
  },
  {
   "cell_type": "code",
   "execution_count": 70,
   "metadata": {},
   "outputs": [
    {
     "data": {
      "text/plain": [
       "'artificial intelligence (ai) is used in a wide variety of products and services, including maps embedded on our smart phones and â€œchat botsâ€\\x9d that help answer our questions on websites. many hope that ai will transform our economy in ways that drive growth, similar to how steam engines did in the late 19th century and electricity did in the early 20th century. but it is hard to imagine that maps on smart phones, chatbots, and other existing ai-enabled services will drive the type of economic growth we saw from stream and electricity. what we need to see are some dramatic new ai-enabled products and services that transform our way of lifeâ€”in short, we are waiting for an ai â€œkiller app.â€\\x9d  autonomous vehicles (avs)â€”vehicles that accelerate, brake, and turn on their own, requiring little or no input from a human driverâ€”may be such a killer app that transforms our economy significantly. ai supports avs in a variety of ways, including quickly processing and interpreting the large amounts of data generated by the vehicleâ€™s cameras and sensors and helping to improve vehicle fuel efficiency and safety. the impacts of broad adoption of avs are equally numerous, from potentially lowering transportation costs by limiting the need for drivers to possibly transforming mobility in urban and suburban environments. while the relative timing and scale of economic growth is not yet clearâ€”and subject to some debate among scholarsâ€”a key step in maximizing the benefits of avs is passing federal legislation, rather than relying on a patchwork of state and local guidelines. to inform the debate and help prepare policymakers for the task at hand, this report will examine the state of avs, the potential for them to become a â€œkiller appâ€\\x9d with broad impacts, and the existing and potential regulations that could ensure net positive effects on the economy and society as a whole. the current state and future of avs  the current standards for autonomous driving were developed by the society of automotive engineers (sae international). according to the sae standard, the automation capability of vehicles ranges from level 0, with no autonomy, to level 5, which is full automation. level 1 features include park assist, lane assist and adaptive cruise control. some level 3 vehicles, which include full self-driving capabilities but require human intervention in complex situations such as traffic jams, may be commercially available in 2021. no level 4 or 5 cars, which would not require any human intervention, are yet certified for use on regular roads, though there are some such as googleâ€™s waymo that are in development. while the potential impacts of avs are substantial, it will take time for them to be realized; avs are still some years from being commercially available, let alone in widespread use. to give a reasonable sense of timing, chris urmsonâ€”a darpa challenge winner, head of googleâ€™s waymo autonomous vehicle unit for many years, and now ceo of a self-driving vehicle software company named aurora â€”argues it may take up to 30 to 50 years before widespread adoption of autonomous vehicles. despite predictions to the contraryâ€”e.g., elon muskâ€™s 2019 prediction that there would be a tesla driverless taxi fleet in some regions by 2020â€”time frames of this magnitude are common in the automobile industry. choe, oettl and seamans (2021) report that widespread adoption of new innovations in the automobile sector historically can take several decades.[1] there are a number of factors that contribute to technology adoption, and even if a new technology is feasible, it may not be available at a price point that many consumers will pay. for example, turbo-charged engines, which help to reduce the amount of fuel needed, did not start to become popular until oil prices started to rise in the 1970s. in short, the timing of adoption of avs and the economic impacts that will follow depend on many factors. for regulators and policymakers interested in shaping what will likely be considerable economic and societal impacts of avs, now is the time. supporters of autonomous vehicles argue that they may provide a variety of benefits including fuel efficiency and safety. indeed, the brookings institution recently published a book on the topic (winston and karpilow, 2020).[2] the u.s. energy information administration (eia) argues that avs are more fuel efficient than human-driven cars, which means fewer emissions. however, avs may increase vehicle traffic, potentially nullifying emissions reduction from fuel efficiency. kroger, kuhnimhof, and trommer (2019) project the adoption of autonomous vehicle technologies may increase vehicle traffic by 2-9 percent as a result of new automobile user groups as well as lower generalized costs of car travel.[3] avs will likely be safer than human-driven cars, in large part through reducing human error which the national highway traffic safety association (nhtsa) estimates accounts for 94 percent of crashes. while widespread adoption of avs should ultimately result in safer roads, there have been several high profile accidents involving avs, such as a waymo van that crashed into a car in arizona. perhaps as a result of some of these high-profile accidents, consumer demand for avs seems to be relatively low. according to a 2021 survey by the american automobile association, only 14 percent of drivers report that they would trust riding in a vehicle that drives itself, a response similar to the 2020 survey. it is possible, however, that consumer attitudes will change once level 4 and 5 vehicles become commercially available.  f  avs may help to reduce labor input costs in driving-intensive industries. however, as gittleman and monaco (2017) point out, there are several types of drivers, and autonomous driving will likely affect some types more than others.[4]  autonomous vehicles are more likely to be used for heavy and tractor trailer truck purposes (aka â€œlong haulâ€\\x9d) than local delivery given the relative ease of navigating on highways and all the other tasks associated with local delivery, including freight handling, paperwork, and customer service. gittleman and monaco estimate that level 4 and 5 automation may ultimately displace 300,000 to 400,000 drivers. but the authors highlight that there are many practical limitations to automation. for example, they highlight that one of the important functions of a truck driver is to serve as a security guard for the freight. a recent paper by gelauff, ossokina, and teulings (2019) envisions some of the longer-term outcomes from avs.[5]  the authors model two countervailing effects from avs, each of which lead to differing outcomes on population distribution. on one hand, avs may lead to improved use of time during car trips, which lowers the cost of living at a distance from cities. on the other hand, avs may lead to improved public transit options in urban environments in the form of shared-ride autonomous vehicles (savs). the authors argue that savs may be more efficient than existing public transit and may make city living relatively more attractive leading to more population clustering in cities. the authors argue that the second effect may outweigh the first and ultimately may lead to overall population shifts towards large, attractive cities at the expense of smaller urban and non-urban areas. while the authors donâ€™t speculate on the ultimate economic effects of such a change, it is worth noting that literature from economic geography suggests that there are many agglomeration effects from living in or close to cities, including greater economic growth and innovation.[6]  it is also worth noting that the covid-19 pandemic has led to a large shift in population away from many urban environments, at least in the short run. in short, avs will likely affect our economy and society in a variety of ways. avs may lead to fewer emissions and increased safety. by decreasing the need for humans to drive, avs will likely transform the type of work done by humans in the transportation sector of the economy and may also change the way that humans commute to and from work. how all this plays out, however, depends on numerous factors including, importantly, existing and future regulations. current and prospective av legislation  the national conference of state legislatures highlights that a number of states have introduced and enacted laws related to autonomous vehicles. notably, in december 2020, california state senator ben allen introduced a bill to establish a new council on the future of transportation in california that would promote state legislation for autonomous vehicles, in addition to other transportation-related policy. also, in november 2020 the california public utilities commission approved autonomous vehicle regulatory framework that would make it easier for companies to provide autonomous vehicle transportation services to the public. while these laws indicate that state legislators are responsive to local concerns about autonomous vehicles, the risk is a resulting patchwork of state laws. with this concern in mind, there have been attempts at federal legislation, notably in 2017 with the self drive act in the house and the av start act in the senate. the self drive act (safely ensuring lives future deployment and research in vehicle evolution act) was passed in the house in 2017 but did not advance in the senate. the bill would have provided nhtsa with the authority to regulate avs. nhtsa would be authorized to require safety assessment certifications and states would be preempted from enacting laws regarding the design, construction, or performance of avs unless those laws enact standards identical to federal standards. in addition, the bill would have required that manufacturers of avs develop written cybersecurity and privacy plans for such vehicles prior to offering them for sale. the av start act (american vision for safer transportation through advancement of revolutionary technologies act) was introduced in the senate in 2017 but did not advance. like the self drive act, it would have established a framework for a federal role in oversight of avs, preempting state laws and providing clarity to stakeholders including car manufacturers and insurance companies.'"
      ]
     },
     "execution_count": 70,
     "metadata": {},
     "output_type": "execute_result"
    }
   ],
   "source": [
    "df.loc[1]['Content_Parsed_2']"
   ]
  },
  {
   "cell_type": "markdown",
   "metadata": {},
   "source": [
    "3. Punctuation signs"
   ]
  },
  {
   "cell_type": "code",
   "execution_count": 71,
   "metadata": {},
   "outputs": [
    {
     "data": {
      "text/plain": [
       "'artificial intelligence (ai) is used in a wide variety of products and services including maps embedded on our smart phones and â€œchat botsâ€\\x9d that help answer our questions on websites many hope that ai will transform our economy in ways that drive growth similar to how steam engines did in the late 19th century and electricity did in the early 20th century but it is hard to imagine that maps on smart phones chatbots and other existing ai-enabled services will drive the type of economic growth we saw from stream and electricity what we need to see are some dramatic new ai-enabled products and services that transform our way of lifeâ€”in short we are waiting for an ai â€œkiller appâ€\\x9d  autonomous vehicles (avs)â€”vehicles that accelerate brake and turn on their own requiring little or no input from a human driverâ€”may be such a killer app that transforms our economy significantly ai supports avs in a variety of ways including quickly processing and interpreting the large amounts of data generated by the vehicleâ€™s cameras and sensors and helping to improve vehicle fuel efficiency and safety the impacts of broad adoption of avs are equally numerous from potentially lowering transportation costs by limiting the need for drivers to possibly transforming mobility in urban and suburban environments while the relative timing and scale of economic growth is not yet clearâ€”and subject to some debate among scholarsâ€”a key step in maximizing the benefits of avs is passing federal legislation rather than relying on a patchwork of state and local guidelines to inform the debate and help prepare policymakers for the task at hand this report will examine the state of avs the potential for them to become a â€œkiller appâ€\\x9d with broad impacts and the existing and potential regulations that could ensure net positive effects on the economy and society as a whole the current state and future of avs  the current standards for autonomous driving were developed by the society of automotive engineers (sae international) according to the sae standard the automation capability of vehicles ranges from level 0 with no autonomy to level 5 which is full automation level 1 features include park assist lane assist and adaptive cruise control some level 3 vehicles which include full self-driving capabilities but require human intervention in complex situations such as traffic jams may be commercially available in 2021 no level 4 or 5 cars which would not require any human intervention are yet certified for use on regular roads though there are some such as googleâ€™s waymo that are in development while the potential impacts of avs are substantial it will take time for them to be realized avs are still some years from being commercially available let alone in widespread use to give a reasonable sense of timing chris urmsonâ€”a darpa challenge winner head of googleâ€™s waymo autonomous vehicle unit for many years and now ceo of a self-driving vehicle software company named aurora â€”argues it may take up to 30 to 50 years before widespread adoption of autonomous vehicles despite predictions to the contraryâ€”eg elon muskâ€™s 2019 prediction that there would be a tesla driverless taxi fleet in some regions by 2020â€”time frames of this magnitude are common in the automobile industry choe oettl and seamans (2021) report that widespread adoption of new innovations in the automobile sector historically can take several decades[1] there are a number of factors that contribute to technology adoption and even if a new technology is feasible it may not be available at a price point that many consumers will pay for example turbo-charged engines which help to reduce the amount of fuel needed did not start to become popular until oil prices started to rise in the 1970s in short the timing of adoption of avs and the economic impacts that will follow depend on many factors for regulators and policymakers interested in shaping what will likely be considerable economic and societal impacts of avs now is the time supporters of autonomous vehicles argue that they may provide a variety of benefits including fuel efficiency and safety indeed the brookings institution recently published a book on the topic (winston and karpilow 2020)[2] the us energy information administration (eia) argues that avs are more fuel efficient than human-driven cars which means fewer emissions however avs may increase vehicle traffic potentially nullifying emissions reduction from fuel efficiency kroger kuhnimhof and trommer (2019) project the adoption of autonomous vehicle technologies may increase vehicle traffic by 2-9 percent as a result of new automobile user groups as well as lower generalized costs of car travel[3] avs will likely be safer than human-driven cars in large part through reducing human error which the national highway traffic safety association (nhtsa) estimates accounts for 94 percent of crashes while widespread adoption of avs should ultimately result in safer roads there have been several high profile accidents involving avs such as a waymo van that crashed into a car in arizona perhaps as a result of some of these high-profile accidents consumer demand for avs seems to be relatively low according to a 2021 survey by the american automobile association only 14 percent of drivers report that they would trust riding in a vehicle that drives itself a response similar to the 2020 survey it is possible however that consumer attitudes will change once level 4 and 5 vehicles become commercially available  f  avs may help to reduce labor input costs in driving-intensive industries however as gittleman and monaco (2017) point out there are several types of drivers and autonomous driving will likely affect some types more than others[4]  autonomous vehicles are more likely to be used for heavy and tractor trailer truck purposes (aka â€œlong haulâ€\\x9d) than local delivery given the relative ease of navigating on highways and all the other tasks associated with local delivery including freight handling paperwork and customer service gittleman and monaco estimate that level 4 and 5 automation may ultimately displace 300000 to 400000 drivers but the authors highlight that there are many practical limitations to automation for example they highlight that one of the important functions of a truck driver is to serve as a security guard for the freight a recent paper by gelauff ossokina and teulings (2019) envisions some of the longer-term outcomes from avs[5]  the authors model two countervailing effects from avs each of which lead to differing outcomes on population distribution on one hand avs may lead to improved use of time during car trips which lowers the cost of living at a distance from cities on the other hand avs may lead to improved public transit options in urban environments in the form of shared-ride autonomous vehicles (savs) the authors argue that savs may be more efficient than existing public transit and may make city living relatively more attractive leading to more population clustering in cities the authors argue that the second effect may outweigh the first and ultimately may lead to overall population shifts towards large attractive cities at the expense of smaller urban and non-urban areas while the authors donâ€™t speculate on the ultimate economic effects of such a change it is worth noting that literature from economic geography suggests that there are many agglomeration effects from living in or close to cities including greater economic growth and innovation[6]  it is also worth noting that the covid-19 pandemic has led to a large shift in population away from many urban environments at least in the short run in short avs will likely affect our economy and society in a variety of ways avs may lead to fewer emissions and increased safety by decreasing the need for humans to drive avs will likely transform the type of work done by humans in the transportation sector of the economy and may also change the way that humans commute to and from work how all this plays out however depends on numerous factors including importantly existing and future regulations current and prospective av legislation  the national conference of state legislatures highlights that a number of states have introduced and enacted laws related to autonomous vehicles notably in december 2020 california state senator ben allen introduced a bill to establish a new council on the future of transportation in california that would promote state legislation for autonomous vehicles in addition to other transportation-related policy also in november 2020 the california public utilities commission approved autonomous vehicle regulatory framework that would make it easier for companies to provide autonomous vehicle transportation services to the public while these laws indicate that state legislators are responsive to local concerns about autonomous vehicles the risk is a resulting patchwork of state laws with this concern in mind there have been attempts at federal legislation notably in 2017 with the self drive act in the house and the av start act in the senate the self drive act (safely ensuring lives future deployment and research in vehicle evolution act) was passed in the house in 2017 but did not advance in the senate the bill would have provided nhtsa with the authority to regulate avs nhtsa would be authorized to require safety assessment certifications and states would be preempted from enacting laws regarding the design construction or performance of avs unless those laws enact standards identical to federal standards in addition the bill would have required that manufacturers of avs develop written cybersecurity and privacy plans for such vehicles prior to offering them for sale the av start act (american vision for safer transportation through advancement of revolutionary technologies act) was introduced in the senate in 2017 but did not advance like the self drive act it would have established a framework for a federal role in oversight of avs preempting state laws and providing clarity to stakeholders including car manufacturers and insurance companies'"
      ]
     },
     "execution_count": 71,
     "metadata": {},
     "output_type": "execute_result"
    }
   ],
   "source": [
    "df.loc[1]['Content_Parsed_3']"
   ]
  },
  {
   "cell_type": "markdown",
   "metadata": {},
   "source": [
    "4. Possessive pronouns"
   ]
  },
  {
   "cell_type": "code",
   "execution_count": 72,
   "metadata": {},
   "outputs": [
    {
     "data": {
      "text/plain": [
       "'artificial intelligence (ai) is used in a wide variety of products and services including maps embedded on our smart phones and â€œchat botsâ€\\x9d that help answer our questions on websites many hope that ai will transform our economy in ways that drive growth similar to how steam engines did in the late 19th century and electricity did in the early 20th century but it is hard to imagine that maps on smart phones chatbots and other existing ai-enabled services will drive the type of economic growth we saw from stream and electricity what we need to see are some dramatic new ai-enabled products and services that transform our way of lifeâ€”in short we are waiting for an ai â€œkiller appâ€\\x9d  autonomous vehicles (avs)â€”vehicles that accelerate brake and turn on their own requiring little or no input from a human driverâ€”may be such a killer app that transforms our economy significantly ai supports avs in a variety of ways including quickly processing and interpreting the large amounts of data generated by the vehicleâ€™s cameras and sensors and helping to improve vehicle fuel efficiency and safety the impacts of broad adoption of avs are equally numerous from potentially lowering transportation costs by limiting the need for drivers to possibly transforming mobility in urban and suburban environments while the relative timing and scale of economic growth is not yet clearâ€”and subject to some debate among scholarsâ€”a key step in maximizing the benefits of avs is passing federal legislation rather than relying on a patchwork of state and local guidelines to inform the debate and help prepare policymakers for the task at hand this report will examine the state of avs the potential for them to become a â€œkiller appâ€\\x9d with broad impacts and the existing and potential regulations that could ensure net positive effects on the economy and society as a whole the current state and future of avs  the current standards for autonomous driving were developed by the society of automotive engineers (sae international) according to the sae standard the automation capability of vehicles ranges from level 0 with no autonomy to level 5 which is full automation level 1 features include park assist lane assist and adaptive cruise control some level 3 vehicles which include full self-driving capabilities but require human intervention in complex situations such as traffic jams may be commercially available in 2021 no level 4 or 5 cars which would not require any human intervention are yet certified for use on regular roads though there are some such as googleâ€™s waymo that are in development while the potential impacts of avs are substantial it will take time for them to be realized avs are still some years from being commercially available let alone in widespread use to give a reasonable sense of timing chris urmsonâ€”a darpa challenge winner head of googleâ€™s waymo autonomous vehicle unit for many years and now ceo of a self-driving vehicle software company named aurora â€”argues it may take up to 30 to 50 years before widespread adoption of autonomous vehicles despite predictions to the contraryâ€”eg elon muskâ€™s 2019 prediction that there would be a tesla driverless taxi fleet in some regions by 2020â€”time frames of this magnitude are common in the automobile industry choe oettl and seamans (2021) report that widespread adoption of new innovations in the automobile sector historically can take several decades[1] there are a number of factors that contribute to technology adoption and even if a new technology is feasible it may not be available at a price point that many consumers will pay for example turbo-charged engines which help to reduce the amount of fuel needed did not start to become popular until oil prices started to rise in the 1970s in short the timing of adoption of avs and the economic impacts that will follow depend on many factors for regulators and policymakers interested in shaping what will likely be considerable economic and societal impacts of avs now is the time supporters of autonomous vehicles argue that they may provide a variety of benefits including fuel efficiency and safety indeed the brookings institution recently published a book on the topic (winston and karpilow 2020)[2] the us energy information administration (eia) argues that avs are more fuel efficient than human-driven cars which means fewer emissions however avs may increase vehicle traffic potentially nullifying emissions reduction from fuel efficiency kroger kuhnimhof and trommer (2019) project the adoption of autonomous vehicle technologies may increase vehicle traffic by 2-9 percent as a result of new automobile user groups as well as lower generalized costs of car travel[3] avs will likely be safer than human-driven cars in large part through reducing human error which the national highway traffic safety association (nhtsa) estimates accounts for 94 percent of crashes while widespread adoption of avs should ultimately result in safer roads there have been several high profile accidents involving avs such as a waymo van that crashed into a car in arizona perhaps as a result of some of these high-profile accidents consumer demand for avs seems to be relatively low according to a 2021 survey by the american automobile association only 14 percent of drivers report that they would trust riding in a vehicle that drives itself a response similar to the 2020 survey it is possible however that consumer attitudes will change once level 4 and 5 vehicles become commercially available  f  avs may help to reduce labor input costs in driving-intensive industries however as gittleman and monaco (2017) point out there are several types of drivers and autonomous driving will likely affect some types more than others[4]  autonomous vehicles are more likely to be used for heavy and tractor trailer truck purposes (aka â€œlong haulâ€\\x9d) than local delivery given the relative ease of navigating on highways and all the other tasks associated with local delivery including freight handling paperwork and customer service gittleman and monaco estimate that level 4 and 5 automation may ultimately displace 300000 to 400000 drivers but the authors highlight that there are many practical limitations to automation for example they highlight that one of the important functions of a truck driver is to serve as a security guard for the freight a recent paper by gelauff ossokina and teulings (2019) envisions some of the longer-term outcomes from avs[5]  the authors model two countervailing effects from avs each of which lead to differing outcomes on population distribution on one hand avs may lead to improved use of time during car trips which lowers the cost of living at a distance from cities on the other hand avs may lead to improved public transit options in urban environments in the form of shared-ride autonomous vehicles (savs) the authors argue that savs may be more efficient than existing public transit and may make city living relatively more attractive leading to more population clustering in cities the authors argue that the second effect may outweigh the first and ultimately may lead to overall population shifts towards large attractive cities at the expense of smaller urban and non-urban areas while the authors donâ€™t speculate on the ultimate economic effects of such a change it is worth noting that literature from economic geography suggests that there are many agglomeration effects from living in or close to cities including greater economic growth and innovation[6]  it is also worth noting that the covid-19 pandemic has led to a large shift in population away from many urban environments at least in the short run in short avs will likely affect our economy and society in a variety of ways avs may lead to fewer emissions and increased safety by decreasing the need for humans to drive avs will likely transform the type of work done by humans in the transportation sector of the economy and may also change the way that humans commute to and from work how all this plays out however depends on numerous factors including importantly existing and future regulations current and prospective av legislation  the national conference of state legislatures highlights that a number of states have introduced and enacted laws related to autonomous vehicles notably in december 2020 california state senator ben allen introduced a bill to establish a new council on the future of transportation in california that would promote state legislation for autonomous vehicles in addition to other transportation-related policy also in november 2020 the california public utilities commission approved autonomous vehicle regulatory framework that would make it easier for companies to provide autonomous vehicle transportation services to the public while these laws indicate that state legislators are responsive to local concerns about autonomous vehicles the risk is a resulting patchwork of state laws with this concern in mind there have been attempts at federal legislation notably in 2017 with the self drive act in the house and the av start act in the senate the self drive act (safely ensuring lives future deployment and research in vehicle evolution act) was passed in the house in 2017 but did not advance in the senate the bill would have provided nhtsa with the authority to regulate avs nhtsa would be authorized to require safety assessment certifications and states would be preempted from enacting laws regarding the design construction or performance of avs unless those laws enact standards identical to federal standards in addition the bill would have required that manufacturers of avs develop written cybersecurity and privacy plans for such vehicles prior to offering them for sale the av start act (american vision for safer transportation through advancement of revolutionary technologies act) was introduced in the senate in 2017 but did not advance like the self drive act it would have established a framework for a federal role in oversight of avs preempting state laws and providing clarity to stakeholders including car manufacturers and insurance companies'"
      ]
     },
     "execution_count": 72,
     "metadata": {},
     "output_type": "execute_result"
    }
   ],
   "source": [
    "df.loc[1]['Content_Parsed_4']"
   ]
  },
  {
   "cell_type": "markdown",
   "metadata": {},
   "source": [
    "5. Stemming and Lemmatization"
   ]
  },
  {
   "cell_type": "code",
   "execution_count": 73,
   "metadata": {},
   "outputs": [
    {
     "data": {
      "text/plain": [
       "'artificial intelligence (ai) be use in a wide variety of products and service include map embed on our smart phone and â€œchat botsâ€\\x9d that help answer our question on websites many hope that ai will transform our economy in ways that drive growth similar to how steam engines do in the late 19th century and electricity do in the early 20th century but it be hard to imagine that map on smart phone chatbots and other exist ai-enabled service will drive the type of economic growth we saw from stream and electricity what we need to see be some dramatic new ai-enabled products and service that transform our way of lifeâ€”in short we be wait for an ai â€œkiller appâ€\\x9d  autonomous vehicles (avs)â€”vehicles that accelerate brake and turn on their own require little or no input from a human driverâ€”may be such a killer app that transform our economy significantly ai support avs in a variety of ways include quickly process and interpret the large amount of data generate by the vehicleâ€™s cameras and sensors and help to improve vehicle fuel efficiency and safety the impact of broad adoption of avs be equally numerous from potentially lower transportation cost by limit the need for drivers to possibly transform mobility in urban and suburban environments while the relative time and scale of economic growth be not yet clearâ€”and subject to some debate among scholarsâ€”a key step in maximize the benefit of avs be pass federal legislation rather than rely on a patchwork of state and local guidelines to inform the debate and help prepare policymakers for the task at hand this report will examine the state of avs the potential for them to become a â€œkiller appâ€\\x9d with broad impact and the exist and potential regulations that could ensure net positive effect on the economy and society as a whole the current state and future of avs  the current standards for autonomous drive be develop by the society of automotive engineer (sae international) accord to the sae standard the automation capability of vehicles range from level 0 with no autonomy to level 5 which be full automation level 1 feature include park assist lane assist and adaptive cruise control some level 3 vehicles which include full self-driving capabilities but require human intervention in complex situations such as traffic jam may be commercially available in 2021 no level 4 or 5 cars which would not require any human intervention be yet certify for use on regular roads though there be some such as googleâ€™s waymo that be in development while the potential impact of avs be substantial it will take time for them to be realize avs be still some years from be commercially available let alone in widespread use to give a reasonable sense of time chris urmsonâ€”a darpa challenge winner head of googleâ€™s waymo autonomous vehicle unit for many years and now ceo of a self-driving vehicle software company name aurora â€”argues it may take up to 30 to 50 years before widespread adoption of autonomous vehicles despite predictions to the contraryâ€”eg elon muskâ€™s 2019 prediction that there would be a tesla driverless taxi fleet in some regions by 2020â€”time frame of this magnitude be common in the automobile industry choe oettl and seamans (2021) report that widespread adoption of new innovations in the automobile sector historically can take several decades[1] there be a number of factor that contribute to technology adoption and even if a new technology be feasible it may not be available at a price point that many consumers will pay for example turbo-charged engines which help to reduce the amount of fuel need do not start to become popular until oil price start to rise in the 1970s in short the time of adoption of avs and the economic impact that will follow depend on many factor for regulators and policymakers interest in shape what will likely be considerable economic and societal impact of avs now be the time supporters of autonomous vehicles argue that they may provide a variety of benefit include fuel efficiency and safety indeed the brook institution recently publish a book on the topic (winston and karpilow 2020)[2] the us energy information administration (eia) argue that avs be more fuel efficient than human-driven cars which mean fewer emissions however avs may increase vehicle traffic potentially nullify emissions reduction from fuel efficiency kroger kuhnimhof and trommer (2019) project the adoption of autonomous vehicle technologies may increase vehicle traffic by 2-9 percent as a result of new automobile user group as well as lower generalize cost of car travel[3] avs will likely be safer than human-driven cars in large part through reduce human error which the national highway traffic safety association (nhtsa) estimate account for 94 percent of crash while widespread adoption of avs should ultimately result in safer roads there have be several high profile accidents involve avs such as a waymo van that crash into a car in arizona perhaps as a result of some of these high-profile accidents consumer demand for avs seem to be relatively low accord to a 2021 survey by the american automobile association only 14 percent of drivers report that they would trust rid in a vehicle that drive itself a response similar to the 2020 survey it be possible however that consumer attitudes will change once level 4 and 5 vehicles become commercially available  f  avs may help to reduce labor input cost in driving-intensive industries however as gittleman and monaco (2017) point out there be several type of drivers and autonomous drive will likely affect some type more than others[4]  autonomous vehicles be more likely to be use for heavy and tractor trailer truck purpose (aka â€œlong haulâ€\\x9d) than local delivery give the relative ease of navigate on highways and all the other task associate with local delivery include freight handle paperwork and customer service gittleman and monaco estimate that level 4 and 5 automation may ultimately displace 300000 to 400000 drivers but the author highlight that there be many practical limitations to automation for example they highlight that one of the important function of a truck driver be to serve as a security guard for the freight a recent paper by gelauff ossokina and teulings (2019) envision some of the longer-term outcomes from avs[5]  the author model two countervail effect from avs each of which lead to differ outcomes on population distribution on one hand avs may lead to improve use of time during car trip which lower the cost of live at a distance from cities on the other hand avs may lead to improve public transit options in urban environments in the form of shared-ride autonomous vehicles (savs) the author argue that savs may be more efficient than exist public transit and may make city live relatively more attractive lead to more population cluster in cities the author argue that the second effect may outweigh the first and ultimately may lead to overall population shift towards large attractive cities at the expense of smaller urban and non-urban areas while the author donâ€™t speculate on the ultimate economic effect of such a change it be worth note that literature from economic geography suggest that there be many agglomeration effect from live in or close to cities include greater economic growth and innovation[6]  it be also worth note that the covid-19 pandemic have lead to a large shift in population away from many urban environments at least in the short run in short avs will likely affect our economy and society in a variety of ways avs may lead to fewer emissions and increase safety by decrease the need for humans to drive avs will likely transform the type of work do by humans in the transportation sector of the economy and may also change the way that humans commute to and from work how all this play out however depend on numerous factor include importantly exist and future regulations current and prospective av legislation  the national conference of state legislatures highlight that a number of state have introduce and enact laws relate to autonomous vehicles notably in december 2020 california state senator ben allen introduce a bill to establish a new council on the future of transportation in california that would promote state legislation for autonomous vehicles in addition to other transportation-related policy also in november 2020 the california public utilities commission approve autonomous vehicle regulatory framework that would make it easier for company to provide autonomous vehicle transportation service to the public while these laws indicate that state legislators be responsive to local concern about autonomous vehicles the risk be a result patchwork of state laws with this concern in mind there have be attempt at federal legislation notably in 2017 with the self drive act in the house and the av start act in the senate the self drive act (safely ensure live future deployment and research in vehicle evolution act) be pass in the house in 2017 but do not advance in the senate the bill would have provide nhtsa with the authority to regulate avs nhtsa would be authorize to require safety assessment certifications and state would be preempt from enact laws regard the design construction or performance of avs unless those laws enact standards identical to federal standards in addition the bill would have require that manufacturers of avs develop write cybersecurity and privacy plan for such vehicles prior to offer them for sale the av start act (american vision for safer transportation through advancement of revolutionary technologies act) be introduce in the senate in 2017 but do not advance like the self drive act it would have establish a framework for a federal role in oversight of avs preempt state laws and provide clarity to stakeholders include car manufacturers and insurance company'"
      ]
     },
     "execution_count": 73,
     "metadata": {},
     "output_type": "execute_result"
    }
   ],
   "source": [
    "df.loc[1]['Content_Parsed_5']"
   ]
  },
  {
   "cell_type": "markdown",
   "metadata": {},
   "source": [
    "6. Stop words"
   ]
  },
  {
   "cell_type": "code",
   "execution_count": 77,
   "metadata": {},
   "outputs": [
    {
     "data": {
      "text/plain": [
       "'artificial intelligence (ai)  use   wide variety  products  service include map embed   smart phone  â€œchat botsâ€\\x9d  help answer  question  websites many hope  ai  transform  economy  ways  drive growth similar   steam engines    late 19th century  electricity    early 20th century    hard  imagine  map  smart phone chatbots   exist ai-enabled service  drive  type  economic growth  saw  stream  electricity   need  see   dramatic new ai-enabled products  service  transform  way  lifeâ€” short   wait   ai â€œkiller appâ€\\x9d  autonomous vehicles (avs)â€”vehicles  accelerate brake  turn    require little   input   human driverâ€”may    killer app  transform  economy significantly ai support avs   variety  ways include quickly process  interpret  large amount  data generate   vehicleâ€™ cameras  sensors  help  improve vehicle fuel efficiency  safety  impact  broad adoption  avs  equally numerous  potentially lower transportation cost  limit  need  drivers  possibly transform mobility  urban  suburban environments   relative time  scale  economic growth   yet clearâ€” subject   debate among scholarsâ€” key step  maximize  benefit  avs  pass federal legislation rather  rely   patchwork  state  local guidelines  inform  debate  help prepare policymakers   task  hand  report  examine  state  avs  potential    become  â€œkiller appâ€\\x9d  broad impact   exist  potential regulations  could ensure net positive effect   economy  society   whole  current state  future  avs   current standards  autonomous drive  develop   society  automotive engineer (sae international) accord   sae standard  automation capability  vehicles range  level 0   autonomy  level 5   full automation level 1 feature include park assist lane assist  adaptive cruise control  level 3 vehicles  include full self-driving capabilities  require human intervention  complex situations   traffic jam may  commercially available  2021  level 4  5 cars  would  require  human intervention  yet certify  use  regular roads though      googleâ€™ waymo    development   potential impact  avs  substantial   take time     realize avs  still  years   commercially available let alone  widespread use  give  reasonable sense  time chris urmsonâ€” darpa challenge winner head  googleâ€™ waymo autonomous vehicle unit  many years   ceo   self-driving vehicle software company name aurora â€”argues  may take   30  50 years  widespread adoption  autonomous vehicles despite predictions   contraryâ€”eg elon muskâ€™ 2019 prediction   would   tesla driverless taxi fleet   regions  2020â€”time frame   magnitude  common   automobile industry choe oettl  seamans (2021) report  widespread adoption  new innovations   automobile sector historically  take several decades[1]    number  factor  contribute  technology adoption  even   new technology  feasible  may   available   price point  many consumers  pay  example turbo-charged engines  help  reduce  amount  fuel need   start  become popular  oil price start  rise   1970s  short  time  adoption  avs   economic impact   follow depend  many factor  regulators  policymakers interest  shape   likely  considerable economic  societal impact  avs    time supporters  autonomous vehicles argue   may provide  variety  benefit include fuel efficiency  safety indeed  brook institution recently publish  book   topic (winston  karpilow 2020)[2]  us energy information administration (eia) argue  avs   fuel efficient  human-driven cars  mean fewer emissions however avs may increase vehicle traffic potentially nullify emissions reduction  fuel efficiency kroger kuhnimhof  trommer (2019) project  adoption  autonomous vehicle technologies may increase vehicle traffic  2-9 percent   result  new automobile user group  well  lower generalize cost  car travel[3] avs  likely  safer  human-driven cars  large part  reduce human error   national highway traffic safety association (nhtsa) estimate account  94 percent  crash  widespread adoption  avs  ultimately result  safer roads    several high profile accidents involve avs    waymo van  crash   car  arizona perhaps   result     high-profile accidents consumer demand  avs seem   relatively low accord   2021 survey   american automobile association  14 percent  drivers report   would trust rid   vehicle  drive   response similar   2020 survey   possible however  consumer attitudes  change  level 4  5 vehicles become commercially available  f  avs may help  reduce labor input cost  driving-intensive industries however  gittleman  monaco (2017) point    several type  drivers  autonomous drive  likely affect  type   others[4]  autonomous vehicles   likely   use  heavy  tractor trailer truck purpose (aka â€œlong haulâ€\\x9d)  local delivery give  relative ease  navigate  highways     task associate  local delivery include freight handle paperwork  customer service gittleman  monaco estimate  level 4  5 automation may ultimately displace 300000  400000 drivers   author highlight    many practical limitations  automation  example  highlight  one   important function   truck driver   serve   security guard   freight  recent paper  gelauff ossokina  teulings (2019) envision    longer-term outcomes  avs[5]   author model two countervail effect  avs    lead  differ outcomes  population distribution  one hand avs may lead  improve use  time  car trip  lower  cost  live   distance  cities    hand avs may lead  improve public transit options  urban environments   form  shared-ride autonomous vehicles (savs)  author argue  savs may   efficient  exist public transit  may make city live relatively  attractive lead   population cluster  cities  author argue   second effect may outweigh  first  ultimately may lead  overall population shift towards large attractive cities   expense  smaller urban  non-urban areas   author donâ€™ speculate   ultimate economic effect    change   worth note  literature  economic geography suggest    many agglomeration effect  live   close  cities include greater economic growth  innovation[6]    also worth note   covid-19 pandemic  lead   large shift  population away  many urban environments  least   short run  short avs  likely affect  economy  society   variety  ways avs may lead  fewer emissions  increase safety  decrease  need  humans  drive avs  likely transform  type  work   humans   transportation sector   economy  may also change  way  humans commute    work    play  however depend  numerous factor include importantly exist  future regulations current  prospective av legislation   national conference  state legislatures highlight   number  state  introduce  enact laws relate  autonomous vehicles notably  december 2020 california state senator ben allen introduce  bill  establish  new council   future  transportation  california  would promote state legislation  autonomous vehicles  addition   transportation-related policy also  november 2020  california public utilities commission approve autonomous vehicle regulatory framework  would make  easier  company  provide autonomous vehicle transportation service   public   laws indicate  state legislators  responsive  local concern  autonomous vehicles  risk   result patchwork  state laws   concern  mind    attempt  federal legislation notably  2017   self drive act   house   av start act   senate  self drive act (safely ensure live future deployment  research  vehicle evolution act)  pass   house  2017    advance   senate  bill would  provide nhtsa   authority  regulate avs nhtsa would  authorize  require safety assessment certifications  state would  preempt  enact laws regard  design construction  performance  avs unless  laws enact standards identical  federal standards  addition  bill would  require  manufacturers  avs develop write cybersecurity  privacy plan   vehicles prior  offer   sale  av start act (american vision  safer transportation  advancement  revolutionary technologies act)  introduce   senate  2017    advance like  self drive act  would  establish  framework   federal role  oversight  avs preempt state laws  provide clarity  stakeholders include car manufacturers  insurance company'"
      ]
     },
     "execution_count": 77,
     "metadata": {},
     "output_type": "execute_result"
    }
   ],
   "source": [
    "df.loc[1]['Content_Parsed_6']"
   ]
  },
  {
   "cell_type": "markdown",
   "metadata": {},
   "source": [
    "Finally, we can delete the intermediate columns:"
   ]
  },
  {
   "cell_type": "code",
   "execution_count": 78,
   "metadata": {},
   "outputs": [
    {
     "data": {
      "text/html": [
       "<div>\n",
       "<style scoped>\n",
       "    .dataframe tbody tr th:only-of-type {\n",
       "        vertical-align: middle;\n",
       "    }\n",
       "\n",
       "    .dataframe tbody tr th {\n",
       "        vertical-align: top;\n",
       "    }\n",
       "\n",
       "    .dataframe thead th {\n",
       "        text-align: right;\n",
       "    }\n",
       "</style>\n",
       "<table border=\"1\" class=\"dataframe\">\n",
       "  <thead>\n",
       "    <tr style=\"text-align: right;\">\n",
       "      <th></th>\n",
       "      <th>File_Name</th>\n",
       "      <th>Content</th>\n",
       "      <th>Category</th>\n",
       "      <th>Complete_Filename</th>\n",
       "      <th>id</th>\n",
       "      <th>News_length</th>\n",
       "      <th>Content_Parsed_1</th>\n",
       "      <th>Content_Parsed_2</th>\n",
       "      <th>Content_Parsed_3</th>\n",
       "      <th>Content_Parsed_4</th>\n",
       "      <th>Content_Parsed_5</th>\n",
       "      <th>Content_Parsed_6</th>\n",
       "    </tr>\n",
       "  </thead>\n",
       "  <tbody>\n",
       "    <tr>\n",
       "      <th>0</th>\n",
       "      <td>Neha_Assign_AutonomusCar.txt</td>\n",
       "      <td>A year ago, Detroit and Silicon Valley had vis...</td>\n",
       "      <td>Baleno</td>\n",
       "      <td>Neha_Assign_AutonomusCar.txt-Baleno</td>\n",
       "      <td>1</td>\n",
       "      <td>8503</td>\n",
       "      <td>A year ago, Detroit and Silicon Valley had vis...</td>\n",
       "      <td>a year ago, detroit and silicon valley had vis...</td>\n",
       "      <td>a year ago detroit and silicon valley had visi...</td>\n",
       "      <td>a year ago detroit and silicon valley had visi...</td>\n",
       "      <td>a year ago detroit and silicon valley have vis...</td>\n",
       "      <td>year ago detroit  silicon valley  visions  pu...</td>\n",
       "    </tr>\n",
       "  </tbody>\n",
       "</table>\n",
       "</div>"
      ],
      "text/plain": [
       "                      File_Name  \\\n",
       "0  Neha_Assign_AutonomusCar.txt   \n",
       "\n",
       "                                             Content Category  \\\n",
       "0  A year ago, Detroit and Silicon Valley had vis...   Baleno   \n",
       "\n",
       "                     Complete_Filename  id  News_length  \\\n",
       "0  Neha_Assign_AutonomusCar.txt-Baleno   1         8503   \n",
       "\n",
       "                                    Content_Parsed_1  \\\n",
       "0  A year ago, Detroit and Silicon Valley had vis...   \n",
       "\n",
       "                                    Content_Parsed_2  \\\n",
       "0  a year ago, detroit and silicon valley had vis...   \n",
       "\n",
       "                                    Content_Parsed_3  \\\n",
       "0  a year ago detroit and silicon valley had visi...   \n",
       "\n",
       "                                    Content_Parsed_4  \\\n",
       "0  a year ago detroit and silicon valley had visi...   \n",
       "\n",
       "                                    Content_Parsed_5  \\\n",
       "0  a year ago detroit and silicon valley have vis...   \n",
       "\n",
       "                                    Content_Parsed_6  \n",
       "0   year ago detroit  silicon valley  visions  pu...  "
      ]
     },
     "execution_count": 78,
     "metadata": {},
     "output_type": "execute_result"
    }
   ],
   "source": [
    "df.head(1)"
   ]
  },
  {
   "cell_type": "code",
   "execution_count": 79,
   "metadata": {},
   "outputs": [],
   "source": [
    "list_columns = [\"File_Name\", \"Category\", \"Content\", \"Content_Parsed_6\"]\n",
    "df = df[list_columns]\n",
    "\n",
    "df = df.rename(columns={'Content_Parsed_6': 'Content_Parsed'})"
   ]
  },
  {
   "cell_type": "code",
   "execution_count": 32,
   "metadata": {
    "scrolled": true
   },
   "outputs": [
    {
     "data": {
      "text/html": [
       "<div>\n",
       "<style scoped>\n",
       "    .dataframe tbody tr th:only-of-type {\n",
       "        vertical-align: middle;\n",
       "    }\n",
       "\n",
       "    .dataframe tbody tr th {\n",
       "        vertical-align: top;\n",
       "    }\n",
       "\n",
       "    .dataframe thead th {\n",
       "        text-align: right;\n",
       "    }\n",
       "</style>\n",
       "<table border=\"1\" class=\"dataframe\">\n",
       "  <thead>\n",
       "    <tr style=\"text-align: right;\">\n",
       "      <th></th>\n",
       "      <th>File_Name</th>\n",
       "      <th>Category</th>\n",
       "      <th>Content</th>\n",
       "      <th>Content_Parsed</th>\n",
       "    </tr>\n",
       "  </thead>\n",
       "  <tbody>\n",
       "    <tr>\n",
       "      <th>0</th>\n",
       "      <td>Lahari_Assg1.txt</td>\n",
       "      <td>Alto</td>\n",
       "      <td>Ask nine futurists what life will be like in 5...</td>\n",
       "      <td>ask nine futurists  life   like  50 years  ' l...</td>\n",
       "    </tr>\n",
       "    <tr>\n",
       "      <th>1</th>\n",
       "      <td>Lahari_Assg2.txt</td>\n",
       "      <td>Ferrari</td>\n",
       "      <td>From ushering in an era of decreased car owner...</td>\n",
       "      <td>usher   era  decrease car ownership  narrow s...</td>\n",
       "    </tr>\n",
       "  </tbody>\n",
       "</table>\n",
       "</div>"
      ],
      "text/plain": [
       "          File_Name Category  \\\n",
       "0  Lahari_Assg1.txt     Alto   \n",
       "1  Lahari_Assg2.txt  Ferrari   \n",
       "\n",
       "                                             Content  \\\n",
       "0  Ask nine futurists what life will be like in 5...   \n",
       "1  From ushering in an era of decreased car owner...   \n",
       "\n",
       "                                      Content_Parsed  \n",
       "0  ask nine futurists  life   like  50 years  ' l...  \n",
       "1   usher   era  decrease car ownership  narrow s...  "
      ]
     },
     "execution_count": 32,
     "metadata": {},
     "output_type": "execute_result"
    }
   ],
   "source": [
    "df.head()"
   ]
  },
  {
   "cell_type": "markdown",
   "metadata": {},
   "source": [
    "**IMPORTANT:**\n",
    "\n",
    "We need to remember that our model will gather the latest news articles from different newspapers every time we want. For that reason, we not only need to take into account the peculiarities of the training set articles, but also possible ones that are present in the gathered news articles.\n",
    "\n",
    "For this reason, possible peculiarities have been studied in the *05. News Scraping* folder."
   ]
  },
  {
   "cell_type": "markdown",
   "metadata": {},
   "source": [
    "## 2. Label coding"
   ]
  },
  {
   "cell_type": "markdown",
   "metadata": {},
   "source": [
    "We'll create a dictionary with the label codification:"
   ]
  },
  {
   "cell_type": "code",
   "execution_count": 80,
   "metadata": {},
   "outputs": [],
   "source": [
    "category_codes = {\n",
    "    'business': 0,\n",
    "    'entertainment': 1,\n",
    "    'politics': 2,\n",
    "    'sport': 3,\n",
    "    'tech': 4\n",
    "}"
   ]
  },
  {
   "cell_type": "code",
   "execution_count": 81,
   "metadata": {},
   "outputs": [],
   "source": [
    "# Category mapping\n",
    "df['Category_Code'] = df['Category']\n",
    "df = df.replace({'Category_Code':category_codes})"
   ]
  },
  {
   "cell_type": "code",
   "execution_count": 82,
   "metadata": {
    "scrolled": true
   },
   "outputs": [
    {
     "data": {
      "text/html": [
       "<div>\n",
       "<style scoped>\n",
       "    .dataframe tbody tr th:only-of-type {\n",
       "        vertical-align: middle;\n",
       "    }\n",
       "\n",
       "    .dataframe tbody tr th {\n",
       "        vertical-align: top;\n",
       "    }\n",
       "\n",
       "    .dataframe thead th {\n",
       "        text-align: right;\n",
       "    }\n",
       "</style>\n",
       "<table border=\"1\" class=\"dataframe\">\n",
       "  <thead>\n",
       "    <tr style=\"text-align: right;\">\n",
       "      <th></th>\n",
       "      <th>File_Name</th>\n",
       "      <th>Category</th>\n",
       "      <th>Content</th>\n",
       "      <th>Content_Parsed</th>\n",
       "      <th>Category_Code</th>\n",
       "    </tr>\n",
       "  </thead>\n",
       "  <tbody>\n",
       "    <tr>\n",
       "      <th>0</th>\n",
       "      <td>Neha_Assign_AutonomusCar.txt</td>\n",
       "      <td>Baleno</td>\n",
       "      <td>A year ago, Detroit and Silicon Valley had vis...</td>\n",
       "      <td>year ago detroit  silicon valley  visions  pu...</td>\n",
       "      <td>Baleno</td>\n",
       "    </tr>\n",
       "    <tr>\n",
       "      <th>1</th>\n",
       "      <td>Neha_Assign_AutonomusCar2.txt</td>\n",
       "      <td>Suziki</td>\n",
       "      <td>Artificial intelligence (AI) is used in a wide...</td>\n",
       "      <td>artificial intelligence (ai)  use   wide varie...</td>\n",
       "      <td>Suziki</td>\n",
       "    </tr>\n",
       "  </tbody>\n",
       "</table>\n",
       "</div>"
      ],
      "text/plain": [
       "                       File_Name Category  \\\n",
       "0   Neha_Assign_AutonomusCar.txt   Baleno   \n",
       "1  Neha_Assign_AutonomusCar2.txt   Suziki   \n",
       "\n",
       "                                             Content  \\\n",
       "0  A year ago, Detroit and Silicon Valley had vis...   \n",
       "1  Artificial intelligence (AI) is used in a wide...   \n",
       "\n",
       "                                      Content_Parsed Category_Code  \n",
       "0   year ago detroit  silicon valley  visions  pu...        Baleno  \n",
       "1  artificial intelligence (ai)  use   wide varie...        Suziki  "
      ]
     },
     "execution_count": 82,
     "metadata": {},
     "output_type": "execute_result"
    }
   ],
   "source": [
    "df.head()"
   ]
  },
  {
   "cell_type": "markdown",
   "metadata": {},
   "source": [
    "## 3. Train - test split"
   ]
  },
  {
   "cell_type": "markdown",
   "metadata": {},
   "source": [
    "We'll set apart a test set to prove the quality of our models. We'll do Cross Validation in the train set in order to tune the hyperparameters and then test performance on the unseen data of the test set."
   ]
  },
  {
   "cell_type": "code",
   "execution_count": 83,
   "metadata": {},
   "outputs": [],
   "source": [
    "X_train, X_test, y_train, y_test = train_test_split(df['Content_Parsed'], \n",
    "                                                    df['Category_Code'], \n",
    "                                                    test_size=0.15, \n",
    "                                                    random_state=8)"
   ]
  },
  {
   "cell_type": "markdown",
   "metadata": {},
   "source": [
    "Since we don't have much observations (only 2.225), we'll choose a test set size of 15% of the full dataset."
   ]
  },
  {
   "cell_type": "markdown",
   "metadata": {},
   "source": [
    "## 4. Text representation"
   ]
  },
  {
   "cell_type": "markdown",
   "metadata": {},
   "source": [
    "We have various options:\n",
    "\n",
    "* Count Vectors as features\n",
    "* TF-IDF Vectors as features\n",
    "* Word Embeddings as features\n",
    "* Text / NLP based features\n",
    "* Topic Models as features"
   ]
  },
  {
   "cell_type": "markdown",
   "metadata": {},
   "source": [
    "We'll use **TF-IDF Vectors** as features."
   ]
  },
  {
   "cell_type": "markdown",
   "metadata": {},
   "source": [
    "We have to define the different parameters:\n",
    "\n",
    "* `ngram_range`: We want to consider both unigrams and bigrams.\n",
    "* `max_df`: When building the vocabulary ignore terms that have a document\n",
    "    frequency strictly higher than the given threshold\n",
    "* `min_df`: When building the vocabulary ignore terms that have a document\n",
    "    frequency strictly lower than the given threshold.\n",
    "* `max_features`: If not None, build a vocabulary that only consider the top\n",
    "    max_features ordered by term frequency across the corpus.\n",
    "\n",
    "See `TfidfVectorizer?` for further detail."
   ]
  },
  {
   "cell_type": "markdown",
   "metadata": {},
   "source": [
    "It needs to be mentioned that we are implicitly scaling our data when representing it as TF-IDF features with the argument `norm`."
   ]
  },
  {
   "cell_type": "code",
   "execution_count": 84,
   "metadata": {},
   "outputs": [],
   "source": [
    "# Parameter election\n",
    "ngram_range = (1,2)\n",
    "min_df = 1\n",
    "max_df = 10\n",
    "max_features = 300"
   ]
  },
  {
   "cell_type": "markdown",
   "metadata": {},
   "source": [
    "We have chosen these values as a first approximation. Since the models that we develop later have a very good predictive power, we'll stick to these values. But it has to be mentioned that different combinations could be tried in order to improve even more the accuracy of the models."
   ]
  },
  {
   "cell_type": "code",
   "execution_count": 85,
   "metadata": {
    "scrolled": true
   },
   "outputs": [
    {
     "name": "stdout",
     "output_type": "stream",
     "text": [
      "(1, 300)\n",
      "(1, 300)\n"
     ]
    }
   ],
   "source": [
    "tfidf = TfidfVectorizer(encoding='utf-8',\n",
    "                        ngram_range=ngram_range,\n",
    "                        stop_words=None,\n",
    "                        lowercase=False,\n",
    "                        max_df=max_df,\n",
    "                        min_df=min_df,\n",
    "                        max_features=max_features,\n",
    "                        norm='',\n",
    "                        sublinear_tf=True)\n",
    "                        \n",
    "features_train = tfidf.fit_transform(X_train).toarray()\n",
    "labels_train = y_train\n",
    "print(features_train.shape)\n",
    "\n",
    "features_test = tfidf.transform(X_test).toarray()\n",
    "labels_test = y_test\n",
    "print(features_test.shape)"
   ]
  },
  {
   "cell_type": "markdown",
   "metadata": {},
   "source": [
    "Please note that we have fitted and then transformed the training set, but we have **only transformed** the **test set**."
   ]
  },
  {
   "cell_type": "markdown",
   "metadata": {},
   "source": [
    "We can use the Chi squared test in order to see what unigrams and bigrams are most correlated with each category:"
   ]
  },
  {
   "cell_type": "code",
   "execution_count": 86,
   "metadata": {},
   "outputs": [
    {
     "name": "stdout",
     "output_type": "stream",
     "text": [
      "# 'business' category:\n",
      "  . Most correlated unigrams:\n",
      ". gittleman\n",
      ". future\n",
      ". full\n",
      ". fuel\n",
      ". framework\n",
      "  . Most correlated bigrams:\n",
      ". fuel efficiency\n",
      ". œkiller appâ\n",
      "\n",
      "# 'entertainment' category:\n",
      "  . Most correlated unigrams:\n",
      ". gittleman\n",
      ". future\n",
      ". full\n",
      ". fuel\n",
      ". framework\n",
      "  . Most correlated bigrams:\n",
      ". fuel efficiency\n",
      ". œkiller appâ\n",
      "\n",
      "# 'politics' category:\n",
      "  . Most correlated unigrams:\n",
      ". gittleman\n",
      ". future\n",
      ". full\n",
      ". fuel\n",
      ". framework\n",
      "  . Most correlated bigrams:\n",
      ". fuel efficiency\n",
      ". œkiller appâ\n",
      "\n",
      "# 'sport' category:\n",
      "  . Most correlated unigrams:\n",
      ". gittleman\n",
      ". future\n",
      ". full\n",
      ". fuel\n",
      ". framework\n",
      "  . Most correlated bigrams:\n",
      ". fuel efficiency\n",
      ". œkiller appâ\n",
      "\n",
      "# 'tech' category:\n",
      "  . Most correlated unigrams:\n",
      ". gittleman\n",
      ". future\n",
      ". full\n",
      ". fuel\n",
      ". framework\n",
      "  . Most correlated bigrams:\n",
      ". fuel efficiency\n",
      ". œkiller appâ\n",
      "\n"
     ]
    }
   ],
   "source": [
    "from sklearn.feature_selection import chi2\n",
    "import numpy as np\n",
    "\n",
    "for Product, category_id in sorted(category_codes.items()):\n",
    "    features_chi2 = chi2(features_train, labels_train == category_id)\n",
    "    indices = np.argsort(features_chi2[0])\n",
    "    feature_names = np.array(tfidf.get_feature_names())[indices]\n",
    "    unigrams = [v for v in feature_names if len(v.split(' ')) == 1]\n",
    "    bigrams = [v for v in feature_names if len(v.split(' ')) == 2]\n",
    "    print(\"# '{}' category:\".format(Product))\n",
    "    print(\"  . Most correlated unigrams:\\n. {}\".format('\\n. '.join(unigrams[-5:])))\n",
    "    print(\"  . Most correlated bigrams:\\n. {}\".format('\\n. '.join(bigrams[-2:])))\n",
    "    print(\"\")\n"
   ]
  },
  {
   "cell_type": "markdown",
   "metadata": {},
   "source": [
    "As we can see, the unigrams correspond well to their category. However, bigrams do not. If we get the bigrams in our features:"
   ]
  },
  {
   "cell_type": "code",
   "execution_count": 87,
   "metadata": {},
   "outputs": [
    {
     "data": {
      "text/plain": [
       "['prospective av',\n",
       " 'promote state',\n",
       " 'project adoption',\n",
       " 'provide autonomous',\n",
       " 'products service',\n",
       " 'profile accidents',\n",
       " 'provide clarity',\n",
       " 'provide nhtsa',\n",
       " 'provide variety',\n",
       " 'range level',\n",
       " 'quickly process',\n",
       " 'question websites',\n",
       " 'purpose aka',\n",
       " 'publish book',\n",
       " 'public utilities',\n",
       " 'public transit',\n",
       " 'public laws',\n",
       " 'model two',\n",
       " 'mobility urban',\n",
       " 'mind attempt',\n",
       " 'mean fewer',\n",
       " 'may ultimately',\n",
       " 'may take',\n",
       " 'may provide',\n",
       " 'may outweigh',\n",
       " 'may lead',\n",
       " 'may increase',\n",
       " 'monaco 2017',\n",
       " 'reduce human',\n",
       " 'monaco estimate',\n",
       " 'muskâ 2019',\n",
       " 'patchwork state',\n",
       " 'reduce labor',\n",
       " 'reduction fuel',\n",
       " 'urban environments',\n",
       " 'transform economy',\n",
       " 'variety ways',\n",
       " 'would require',\n",
       " 'worth note',\n",
       " 'widespread adoption',\n",
       " 'vehicle traffic',\n",
       " 'state laws',\n",
       " 'start act',\n",
       " 'require human',\n",
       " 'relative time',\n",
       " 'relative ease',\n",
       " 'related policy',\n",
       " 'regulations current',\n",
       " 'regulate avs',\n",
       " 'smart phone',\n",
       " 'self driving',\n",
       " 'self drive',\n",
       " 'maximize benefit',\n",
       " 'map smart',\n",
       " 'commercially available',\n",
       " 'bill would',\n",
       " 'economy society',\n",
       " 'economic growth',\n",
       " 'driven cars',\n",
       " 'drive act',\n",
       " 'avs may',\n",
       " 'avs likely',\n",
       " 'adoption avs',\n",
       " 'adoption autonomous',\n",
       " '2020 california',\n",
       " '2017 advance',\n",
       " 'ai enabled',\n",
       " 'av start',\n",
       " 'autonomous vehicles',\n",
       " 'autonomous vehicle',\n",
       " 'autonomous drive',\n",
       " 'author argue',\n",
       " 'efficiency safety',\n",
       " 'increase vehicle',\n",
       " 'impact avs',\n",
       " 'human intervention',\n",
       " 'human driven',\n",
       " 'lead improve',\n",
       " 'map embed',\n",
       " 'manufacturers avs',\n",
       " 'make easier',\n",
       " 'make city',\n",
       " 'local delivery',\n",
       " 'likely affect',\n",
       " 'level vehicles',\n",
       " 'high profile',\n",
       " 'federal legislation',\n",
       " 'enact laws',\n",
       " 'fewer emissions',\n",
       " 'help reduce',\n",
       " 'hand avs',\n",
       " 'googleâ waymo',\n",
       " 'gittleman monaco',\n",
       " 'fuel efficiency',\n",
       " 'œkiller appâ']"
      ]
     },
     "execution_count": 87,
     "metadata": {},
     "output_type": "execute_result"
    }
   ],
   "source": [
    "bigrams"
   ]
  },
  {
   "cell_type": "markdown",
   "metadata": {},
   "source": [
    "We can see there are only six. This means the unigrams have more correlation with the category than the bigrams, and since we're restricting the number of features to the most representative 300, only a few bigrams are being considered."
   ]
  },
  {
   "cell_type": "markdown",
   "metadata": {},
   "source": [
    "Let's save the files we'll need in the next steps:"
   ]
  },
  {
   "cell_type": "code",
   "execution_count": 88,
   "metadata": {},
   "outputs": [],
   "source": [
    "# X_train\n",
    "with open('/Users/keerthanareddy/Downloads/Latest-News-Classifier-master/0. Latest News Classifier/03. Feature Engineering/Pickles/X_train.pickle', 'wb') as output:\n",
    "    pickle.dump(X_train, output)\n",
    "    \n",
    "# X_test    \n",
    "with open('/Users/keerthanareddy/Downloads/Latest-News-Classifier-master/0. Latest News Classifier/03. Feature Engineering/Pickles/X_test.pickle', 'wb') as output:\n",
    "    pickle.dump(X_test, output)\n",
    "    \n",
    "# y_train\n",
    "with open('/Users/keerthanareddy/Downloads/Latest-News-Classifier-master/0. Latest News Classifier/03. Feature Engineering/Pickles/y_train.pickle', 'wb') as output:\n",
    "    pickle.dump(y_train, output)\n",
    "    \n",
    "# y_test\n",
    "with open('/Users/keerthanareddy/Downloads/Latest-News-Classifier-master/0. Latest News Classifier/03. Feature Engineering/Pickles/y_test.pickle', 'wb') as output:\n",
    "    pickle.dump(y_test, output)\n",
    "    \n",
    "# df\n",
    "with open('/Users/keerthanareddy/Downloads/Latest-News-Classifier-master/0. Latest News Classifier/03. Feature Engineering/Pickles/df.pickle', 'wb') as output:\n",
    "    pickle.dump(df, output)\n",
    "    \n",
    "# features_train\n",
    "with open('/Users/keerthanareddy/Downloads/Latest-News-Classifier-master/0. Latest News Classifier/03. Feature Engineering/Pickles/features_train.pickle', 'wb') as output:\n",
    "    pickle.dump(features_train, output)\n",
    "\n",
    "# labels_train\n",
    "with open('/Users/keerthanareddy/Downloads/Latest-News-Classifier-master/0. Latest News Classifier/03. Feature Engineering/Pickles/labels_train.pickle', 'wb') as output:\n",
    "    pickle.dump(labels_train, output)\n",
    "\n",
    "# features_test\n",
    "with open('/Users/keerthanareddy/Downloads/Latest-News-Classifier-master/0. Latest News Classifier/03. Feature Engineering/Pickles/features_test.pickle', 'wb') as output:\n",
    "    pickle.dump(features_test, output)\n",
    "\n",
    "# labels_test\n",
    "with open('/Users/keerthanareddy/Downloads/Latest-News-Classifier-master/0. Latest News Classifier/03. Feature Engineering/Pickles/labels_test.pickle', 'wb') as output:\n",
    "    pickle.dump(labels_test, output)\n",
    "    \n",
    "# TF-IDF object\n",
    "with open('/Users/keerthanareddy/Downloads/Latest-News-Classifier-master/0. Latest News Classifier/03. Feature Engineering/Pickles/tfidf.pickle', 'wb') as output:\n",
    "    pickle.dump(tfidf, output)"
   ]
  },
  {
   "cell_type": "code",
   "execution_count": null,
   "metadata": {},
   "outputs": [],
   "source": []
  },
  {
   "cell_type": "code",
   "execution_count": null,
   "metadata": {},
   "outputs": [],
   "source": []
  }
 ],
 "metadata": {
  "kernelspec": {
   "display_name": "Python 3 (ipykernel)",
   "language": "python",
   "name": "python3"
  },
  "language_info": {
   "codemirror_mode": {
    "name": "ipython",
    "version": 3
   },
   "file_extension": ".py",
   "mimetype": "text/x-python",
   "name": "python",
   "nbconvert_exporter": "python",
   "pygments_lexer": "ipython3",
   "version": "3.8.11"
  }
 },
 "nbformat": 4,
 "nbformat_minor": 2
}
